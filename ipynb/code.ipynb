{
 "cells": [
  {
   "cell_type": "code",
   "id": "initial_id",
   "metadata": {
    "collapsed": true,
    "ExecuteTime": {
     "end_time": "2024-06-11T04:46:26.497254Z",
     "start_time": "2024-06-11T04:46:25.833919Z"
    }
   },
   "source": [
    "from qdrant_client import QdrantClient\n",
    "from pandas import DataFrame\n",
    "from PIL import Image\n",
    "import os \n",
    "import pandas as pd\n",
    "\n",
    "qdrant_client = QdrantClient(\n",
    "    url=\"https://b088d693-20f0-4200-95c0-5ba21d0ace8c.us-east4-0.gcp.cloud.qdrant.io:6333\", \n",
    "    api_key=\"uT8Jv8SlesDJLW0BEMS3t0JwZOjz_PthtzCVVaedMXLkKv2oI24MIQ\",\n",
    ")"
   ],
   "execution_count": 1,
   "outputs": []
  },
  {
   "metadata": {
    "ExecuteTime": {
     "end_time": "2024-06-11T04:56:54.034585Z",
     "start_time": "2024-06-11T04:56:54.029363Z"
    }
   },
   "cell_type": "code",
   "source": [
    "import os\n",
    "import pandas as pd\n",
    "from PIL import Image\n",
    "from io import BytesIO\n",
    "import math\n",
    "import base64\n",
    "\n",
    "class ImageDataset:\n",
    "    def __init__(self, base_path, num_samples_per_class=50):\n",
    "        self.base_path = base_path\n",
    "        self.num_samples_per_class = num_samples_per_class\n",
    "        self.df = pd.DataFrame()\n",
    "        self._load_data()\n",
    "\n",
    "    def _load_data(self):\n",
    "        for class_id, class_path in enumerate(os.listdir(self.base_path)):\n",
    "            class_file = os.listdir(f'{self.base_path}/{class_path}')\n",
    "            samples_in_class = len(class_file)\n",
    "            samples_in_class = min(samples_in_class, self.num_samples_per_class)\n",
    "            \n",
    "            train_samples_files = class_file[:samples_in_class]\n",
    "            train_samples_files = list(map(lambda x: f'{self.base_path}/{class_path}/{x}', train_samples_files))\n",
    "            \n",
    "            payload = pd.DataFrame({\n",
    "                'image_path': train_samples_files,\n",
    "                'type': class_path\n",
    "            })\n",
    "            self.df = pd.concat([self.df, payload])\n",
    "\n",
    "    def resize_image(self, image, target_width=256):\n",
    "        image_aspect_ratio = image.size[0] / image.size[1]\n",
    "        resized_img = image.resize(\n",
    "            [target_width, math.floor(target_width * image_aspect_ratio)]\n",
    "        )\n",
    "        return resized_img\n",
    "    \n",
    "    def convert_image_to_base64(self, image):\n",
    "        buffered = BytesIO()\n",
    "        image.save(buffered, format=\"JPEG\")\n",
    "        return base64.b64encode(buffered.getvalue()).decode(\"utf-8\")\n",
    "\n",
    "    def __getitem__(self, idx):\n",
    "        if idx >= len(self.df):\n",
    "            raise IndexError(\"Index out of range\")\n",
    "        \n",
    "        row = self.df.iloc[idx]\n",
    "        image = Image.open(row['image_path'])\n",
    "        image = self.resize_image(image)\n",
    "        encoded_image = self.convert_image_to_base64(image)\n",
    "        \n",
    "        return image, row['type'], encoded_image\n",
    "\n",
    "    def __len__(self):\n",
    "        return len(self.df)\n",
    "\n",
    "# Example usage:\n",
    "TRAIN_BASE_PATH = '../afhq/train'\n",
    "NUM_SAMPLE_FOR_CLASS = 50\n",
    "\n",
    "data = ImageDataset(TRAIN_BASE_PATH, NUM_SAMPLE_FOR_CLASS)"
   ],
   "id": "f11ab0a71bc43c1c",
   "execution_count": 15,
   "outputs": []
  },
  {
   "metadata": {
    "ExecuteTime": {
     "end_time": "2024-06-10T21:53:44.698914Z",
     "start_time": "2024-06-10T21:53:43.494159Z"
    }
   },
   "cell_type": "code",
   "source": [
    "df_origin = pd.read_excel('../Data/instagram_posts.xlsx')\n",
    "df_origin"
   ],
   "id": "7445f45e84588712",
   "execution_count": 31,
   "outputs": []
  },
  {
   "metadata": {},
   "cell_type": "code",
   "source": [
    "# TRAIN_BASE_PATH = '../afhq/train'\n",
    "# NUM_SAMPLE_FOR_CLASS = 50\n",
    "# \n",
    "# df = pd.DataFrame()\n",
    "# for class_id, class_path in enumerate(os.listdir(TRAIN_BASE_PATH)):\n",
    "#     class_file = os.listdir(f'{TRAIN_BASE_PATH}/{class_path}')\n",
    "#     samples_in_class = len(class_file)\n",
    "#     samples_in_class = min(samples_in_class, NUM_SAMPLE_FOR_CLASS)\n",
    "#     \n",
    "#     train_samples_files = class_file[:samples_in_class]\n",
    "#     train_samples_files = list(map(lambda x: f'{TRAIN_BASE_PATH}/{class_path}/{x}', train_samples_files))\n",
    "#     train_samples_images = list(map(lambda x: Image.open(x), train_samples_files))\n",
    "#     \n",
    "#     payload = DataFrame.from_records({\n",
    "#         'image_path': train_samples_files,\n",
    "#     })\n",
    "#     payload['type'] = class_path\n",
    "#     df = pd.concat([df, payload])\n",
    "# df"
   ],
   "id": "5a394e506ee8f19b",
   "execution_count": null,
   "outputs": []
  },
  {
   "metadata": {
    "ExecuteTime": {
     "end_time": "2024-06-10T21:04:14.238024Z",
     "start_time": "2024-06-10T21:04:14.193281Z"
    }
   },
   "cell_type": "code",
   "source": [
    "import os\n",
    "\n",
    "train_files = os.listdir('../afhq/train/cat')\n",
    "\n",
    "train_samples_files = train_files[:200]\n",
    "train_samples_files = list(map(lambda x: f'../afhq/train/cat/{x}', train_samples_files))\n",
    "train_samples_images = list(map(lambda x: Image.open(x), train_samples_files))"
   ],
   "id": "e07c67d0475f330f",
   "execution_count": 9,
   "outputs": []
  },
  {
   "metadata": {
    "ExecuteTime": {
     "end_time": "2024-06-10T21:04:19.279892Z",
     "start_time": "2024-06-10T21:04:19.268055Z"
    }
   },
   "cell_type": "code",
   "source": [
    "payload = DataFrame.from_records({\n",
    "        'image_path': train_samples_files,\n",
    "    })\n",
    "payload['type'] = 'cat'\n",
    "payload"
   ],
   "id": "bcaf8ce048431e3d",
   "execution_count": 11,
   "outputs": []
  },
  {
   "metadata": {
    "ExecuteTime": {
     "end_time": "2024-06-10T21:04:32.562084Z",
     "start_time": "2024-06-10T21:04:31.261270Z"
    }
   },
   "cell_type": "code",
   "source": [
    "from io import BytesIO\n",
    "import math\n",
    "import base64\n",
    "\n",
    "target_width = 256\n",
    "def resize_image(image_path):\n",
    "    pil_img = Image.open(image_path)\n",
    "    image_aspect_ratio = pil_img.size[0] / pil_img.size[1]\n",
    "    resized_img = pil_img.resize(\n",
    "        [target_width, math.floor(target_width * image_aspect_ratio)]\n",
    "    )\n",
    "    return resized_img\n",
    "\n",
    "def convert_image_to_base64(image):\n",
    "    buffered = BytesIO()\n",
    "    image.save(buffered, format=\"JPEG\")\n",
    "    return base64.b64encode(buffered.getvalue()).decode(\"utf-8\")\n",
    "\n",
    "\n",
    "resized_images = list(map( lambda x: resize_image(x), train_samples_files))\n",
    "base64_str = list(map( lambda x: convert_image_to_base64(x), resized_images))\n",
    "payload['image'] = base64_str"
   ],
   "id": "ce11f93266d87380",
   "execution_count": 12,
   "outputs": []
  },
  {
   "metadata": {
    "ExecuteTime": {
     "end_time": "2024-06-10T21:04:33.033393Z",
     "start_time": "2024-06-10T21:04:33.025176Z"
    }
   },
   "cell_type": "code",
   "source": "payload",
   "id": "5efa8b2a3117c984",
   "execution_count": 13,
   "outputs": []
  },
  {
   "metadata": {
    "ExecuteTime": {
     "end_time": "2024-06-10T21:07:26.500712Z",
     "start_time": "2024-06-10T21:07:25.378391Z"
    }
   },
   "cell_type": "code",
   "source": [
    "resized_images = []\n",
    "for i in range(len(data)):\n",
    "    resized_image, _, _ = data[i]\n",
    "    resized_images.append(resized_image)\n",
    "resized_images"
   ],
   "id": "133cc641bf3cbf4b",
   "execution_count": 16,
   "outputs": []
  },
  {
   "metadata": {
    "ExecuteTime": {
     "end_time": "2024-06-10T21:07:48.786798Z",
     "start_time": "2024-06-10T21:07:35.991942Z"
    }
   },
   "cell_type": "code",
   "source": [
    "from transformers import AutoImageProcessor, ResNetForImageClassification\n",
    "\n",
    "processor = AutoImageProcessor.from_pretrained(\"microsoft/resnet-50\")\n",
    "model = ResNetForImageClassification.from_pretrained(\"microsoft/resnet-50\")\n",
    "\n",
    "inputs = processor(images=resized_images, return_tensors=\"pt\")\n",
    "outputs = model(**inputs)"
   ],
   "id": "5d84736b4272ad58",
   "execution_count": 17,
   "outputs": []
  },
  {
   "metadata": {
    "ExecuteTime": {
     "end_time": "2024-06-10T21:07:56.044230Z",
     "start_time": "2024-06-10T21:07:56.041054Z"
    }
   },
   "cell_type": "code",
   "source": "del resized_images",
   "id": "f063f8a0c6d4597c",
   "execution_count": 18,
   "outputs": []
  },
  {
   "metadata": {
    "ExecuteTime": {
     "end_time": "2024-06-10T21:07:58.887925Z",
     "start_time": "2024-06-10T21:07:58.881814Z"
    }
   },
   "cell_type": "code",
   "source": [
    "embeddings = outputs.logits\n",
    "embeddings_length = embeddings.shape[1]\n",
    "embeddings, embeddings_length"
   ],
   "id": "1fb2f983679e38a3",
   "execution_count": 19,
   "outputs": []
  },
  {
   "metadata": {
    "ExecuteTime": {
     "end_time": "2024-06-10T21:08:26.757456Z",
     "start_time": "2024-06-10T21:08:25.937187Z"
    }
   },
   "cell_type": "code",
   "source": [
    "from qdrant_client.models import VectorParams, Distance, OptimizersConfigDiff\n",
    "\n",
    "collection_name = 'animals_pictures'\n",
    "collection = qdrant_client.create_collection(\n",
    "    collection_name=collection_name,\n",
    "    vectors_config=VectorParams(\n",
    "        size=embeddings_length,\n",
    "        distance=Distance.COSINE\n",
    "    ),\n",
    "    optimizers_config=OptimizersConfigDiff(indexing_threshold=0),\n",
    ")\n",
    "collection"
   ],
   "id": "f75db53dbe87e55b",
   "execution_count": 20,
   "outputs": []
  },
  {
   "metadata": {
    "ExecuteTime": {
     "end_time": "2024-06-10T21:09:13.583516Z",
     "start_time": "2024-06-10T21:09:13.580870Z"
    }
   },
   "cell_type": "code",
   "source": [
    "# payload_2 = payload.copy()\n",
    "# payload_dicts = payload_2.to_dict(orient='records')\n",
    "# payload_dicts"
   ],
   "id": "bffb0fc692d66d31",
   "execution_count": 24,
   "outputs": []
  },
  {
   "metadata": {
    "ExecuteTime": {
     "end_time": "2024-06-10T21:08:28.858297Z",
     "start_time": "2024-06-10T21:08:28.854851Z"
    }
   },
   "cell_type": "code",
   "source": [
    "# from qdrant_client.grpc import PointStruct\n",
    "# from qdrant_client.grpc.points_pb2 import PointId\n",
    "# \n",
    "# points = []\n",
    "# for idx, payload_dict in enumerate(payload):\n",
    "#     point_id = PointId(num=idx)  # Create a PointId object\n",
    "#     vector = embeddings[idx]\n",
    "#     payload = payload_dict\n",
    "# \n",
    "#     points.append(PointStruct(id=point_id, vector=vector, payload=payload))\n",
    "# \n",
    "# print(points)  # Now, you should see correctly structured PointStruct instances\n"
   ],
   "id": "b3b022b07183e2af",
   "execution_count": 22,
   "outputs": []
  },
  {
   "metadata": {
    "ExecuteTime": {
     "end_time": "2024-06-10T21:10:18.090257Z",
     "start_time": "2024-06-10T21:10:16.732323Z"
    }
   },
   "cell_type": "code",
   "source": [
    "data_dict = {}\n",
    "for i in range(len(data)):\n",
    "    image, image_type, encoded_image = data[i]\n",
    "    data_dict[i] = {'type': image_type, 'image': encoded_image}"
   ],
   "id": "3dc4b887f6516569",
   "execution_count": 27,
   "outputs": []
  },
  {
   "metadata": {
    "ExecuteTime": {
     "end_time": "2024-06-10T21:10:18.145405Z",
     "start_time": "2024-06-10T21:10:18.091260Z"
    }
   },
   "cell_type": "code",
   "source": "data_dict",
   "id": "8d39250ed136f415",
   "execution_count": 28,
   "outputs": []
  },
  {
   "metadata": {
    "ExecuteTime": {
     "end_time": "2024-06-10T21:10:28.182259Z",
     "start_time": "2024-06-10T21:10:27.663357Z"
    }
   },
   "cell_type": "code",
   "source": [
    "from qdrant_client import models\n",
    "\n",
    "records = [\n",
    "    models.PointStruct(\n",
    "        id=idx,\n",
    "        payload=data_dict[idx],\n",
    "        vector=embeddings[idx].tolist()\n",
    "    )\n",
    "    for idx, _ in enumerate(data_dict)\n",
    "]\n",
    "records"
   ],
   "id": "37b9058b09483029",
   "execution_count": 29,
   "outputs": []
  },
  {
   "metadata": {
    "ExecuteTime": {
     "end_time": "2024-06-10T21:10:35.863719Z",
     "start_time": "2024-06-10T21:10:31.232470Z"
    }
   },
   "cell_type": "code",
   "source": [
    "qdrant_client.upsert(\n",
    "    collection_name=collection_name,\n",
    "    points=records\n",
    ")"
   ],
   "id": "dd308b52c7a9e01c",
   "execution_count": 30,
   "outputs": []
  },
  {
   "metadata": {},
   "cell_type": "code",
   "source": [
    "# qdrant_client.upload_points(\n",
    "#     collection_name=collection_name,\n",
    "#     points=records\n",
    "# )"
   ],
   "id": "9054f087d6d03b79",
   "execution_count": null,
   "outputs": []
  },
  {
   "metadata": {},
   "cell_type": "code",
   "source": "",
   "id": "f01874786a2989fb",
   "execution_count": null,
   "outputs": []
  }
 ],
 "metadata": {
  "kernelspec": {
   "display_name": "Python 3",
   "language": "python",
   "name": "python3"
  },
  "language_info": {
   "codemirror_mode": {
    "name": "ipython",
    "version": 2
   },
   "file_extension": ".py",
   "mimetype": "text/x-python",
   "name": "python",
   "nbconvert_exporter": "python",
   "pygments_lexer": "ipython2",
   "version": "2.7.6"
  }
 },
 "nbformat": 4,
 "nbformat_minor": 5
}
