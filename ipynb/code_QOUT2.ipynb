{
 "cells": [
  {
   "cell_type": "code",
   "id": "initial_id",
   "metadata": {
    "collapsed": true,
    "ExecuteTime": {
     "end_time": "2024-06-11T17:29:06.735946Z",
     "start_time": "2024-06-11T17:29:06.501595Z"
    }
   },
   "source": [
    "from qdrant_client import QdrantClient\n",
    "from pandas import DataFrame\n",
    "from PIL import Image\n",
    "import os \n",
    "import pandas as pd\n",
    "\n",
    "# qdrant_client = QdrantClient(\n",
    "#     url=\"https://02cfa3da-e5fd-484e-ad1f-b17530cf0530.us-east4-0.gcp.cloud.qdrant.io:6333/\", \n",
    "#     api_key=\"ms5CTCc7UA4OnkxqZBp9KAwM2d3h-N6Cex_QVm2Icmvn1enD5IpWAQ\",\n",
    "# )\n",
    "\n",
    "qdrant_client = QdrantClient(\n",
    "    url=\"https://a7d15b9f-649d-4c0f-9433-2a6c06cc66cc.europe-west3-0.gcp.cloud.qdrant.io:6333\",\n",
    "    api_key=\"mQ3vUPBNtp0mRY6h0gTFMRncal8o1o_trEhck6tYv327wNB7c8WLHw\",\n",
    ")"
   ],
   "outputs": [],
   "execution_count": 2
  },
  {
   "metadata": {
    "ExecuteTime": {
     "end_time": "2024-06-11T16:06:11.345674Z",
     "start_time": "2024-06-11T16:06:11.340647Z"
    }
   },
   "cell_type": "code",
   "source": [
    "# import os\n",
    "# import pandas as pd\n",
    "# from PIL import Image\n",
    "# from io import BytesIO\n",
    "# import math\n",
    "# import base64\n",
    "# \n",
    "# class ImageDataset:\n",
    "#     def __init__(self, base_path, num_samples_per_class=50):\n",
    "#         self.base_path = base_path\n",
    "#         self.num_samples_per_class = num_samples_per_class\n",
    "#         self.df = pd.DataFrame()\n",
    "#         self._load_data()\n",
    "# \n",
    "#     def _load_data(self):\n",
    "#         for class_id, class_path in enumerate(os.listdir(self.base_path)):\n",
    "#             class_file = os.listdir(f'{self.base_path}/{class_path}')\n",
    "#             samples_in_class = len(class_file)\n",
    "#             samples_in_class = min(samples_in_class, self.num_samples_per_class)\n",
    "#             \n",
    "#             train_samples_files = class_file[:samples_in_class]\n",
    "#             train_samples_files = list(map(lambda x: f'{self.base_path}/{class_path}/{x}', train_samples_files))\n",
    "#             \n",
    "#             payload = pd.DataFrame({\n",
    "#                 'image_path': train_samples_files,\n",
    "#                 'type': class_path\n",
    "#             })\n",
    "#             self.df = pd.concat([self.df, payload])\n",
    "# \n",
    "#     def resize_image(self, image, target_width=256):\n",
    "#         image_aspect_ratio = image.size[0] / image.size[1]\n",
    "#         resized_img = image.resize(\n",
    "#             [target_width, math.floor(target_width * image_aspect_ratio)]\n",
    "#         )\n",
    "#         return resized_img\n",
    "#     \n",
    "#     def convert_image_to_base64(self, image):\n",
    "#         buffered = BytesIO()\n",
    "#         image.save(buffered, format=\"JPEG\")\n",
    "#         return base64.b64encode(buffered.getvalue()).decode(\"utf-8\")\n",
    "# \n",
    "#     def __getitem__(self, idx):\n",
    "#         if idx >= len(self.df):\n",
    "#             raise IndexError(\"Index out of range\")\n",
    "#         \n",
    "#         row = self.df.iloc[idx]\n",
    "#         image = Image.open(row['image_path'])\n",
    "#         image = self.resize_image(image)\n",
    "#         encoded_image = self.convert_image_to_base64(image)\n",
    "#         \n",
    "#         return image, row['type'], encoded_image\n",
    "# \n",
    "#     def __len__(self):\n",
    "#         return len(self.df)\n",
    "# \n",
    "# # Example usage:\n",
    "# TRAIN_BASE_PATH = '../afhq/train'\n",
    "# NUM_SAMPLE_FOR_CLASS = 50\n",
    "# \n",
    "# data = ImageDataset(TRAIN_BASE_PATH, NUM_SAMPLE_FOR_CLASS)"
   ],
   "id": "f11ab0a71bc43c1c",
   "outputs": [],
   "execution_count": 9
  },
  {
   "metadata": {
    "ExecuteTime": {
     "end_time": "2024-06-11T16:06:11.966015Z",
     "start_time": "2024-06-11T16:06:11.527709Z"
    }
   },
   "cell_type": "code",
   "source": [
    "# df_origin = pd.read_excel('../Data/instagram_posts.xlsx')\n",
    "# df_origin['post_date'] = df_origin['post_date'].dt.strftime('%Y-%m-%d_%H-%M-%S')\n",
    "# df_origin['post_date']"
   ],
   "id": "7445f45e84588712",
   "outputs": [
    {
     "data": {
      "text/plain": [
       "0      2024-06-08_20-44-33\n",
       "1      2024-05-03_20-26-46\n",
       "2      2024-04-25_22-24-05\n",
       "3      2024-04-20_21-21-49\n",
       "4      2024-04-18_22-05-47\n",
       "              ...         \n",
       "901    2020-12-17_17-27-42\n",
       "902    2020-12-17_11-34-57\n",
       "903    2020-12-16_21-06-56\n",
       "904    2020-12-16_21-05-56\n",
       "905    2020-12-16_16-24-44\n",
       "Name: post_date, Length: 906, dtype: object"
      ]
     },
     "execution_count": 10,
     "metadata": {},
     "output_type": "execute_result"
    }
   ],
   "execution_count": 10
  },
  {
   "metadata": {
    "ExecuteTime": {
     "end_time": "2024-06-11T16:06:12.183696Z",
     "start_time": "2024-06-11T16:06:12.179660Z"
    }
   },
   "cell_type": "code",
   "source": [
    "# train_files = os.listdir('../Data/instagram_photo')\n",
    "# df_matching = DataFrame({\n",
    "#     'instagram_user': [],\n",
    "#     'image_path': [],\n",
    "#     'link': [],\n",
    "# })\n",
    "# matching = []\n",
    "# for i in range(len(df_origin)):\n",
    "#     post_date = df_origin['post_date'][i]\n",
    "#     for file in train_files:\n",
    "#         if file.endswith('.jpg'):\n",
    "#             if post_date == file[:19]:\n",
    "#                 image_path = f'../Data/instagram_photo/{file}'\n",
    "#                 post_date = df_origin['post_date'][i]\n",
    "#                 instagram_user = df_origin['username'][i]\n",
    "#                 link = df_origin['post_url'][i]\n",
    "#     \n",
    "#                 matching.append({\n",
    "#                     'instagram_user': instagram_user,\n",
    "#                     'image_path': image_path,\n",
    "#                     'link': link,\n",
    "#                 })\n",
    "# \n",
    "# df_matching = pd.DataFrame(matching)\n",
    "# df_matching"
   ],
   "id": "bc1b334a6e4a1cca",
   "outputs": [],
   "execution_count": 11
  },
  {
   "metadata": {
    "ExecuteTime": {
     "end_time": "2024-06-11T16:37:35.921883Z",
     "start_time": "2024-06-11T16:37:33.597899Z"
    }
   },
   "cell_type": "code",
   "source": [
    "import os\n",
    "import pandas as pd\n",
    "from io import BytesIO\n",
    "import math\n",
    "import base64\n",
    "from transformers import AutoImageProcessor, ResNetForImageClassification\n",
    "from qdrant_client.models import VectorParams, Distance, PointStruct\n",
    "\n",
    "class InstagramPhotoMatcher:\n",
    "    def __init__(self, data_path, origin_df):\n",
    "        self.data_path = data_path\n",
    "        self.origin_df = origin_df\n",
    "        self.train_files = os.listdir(data_path)\n",
    "        self.df_matching = self.create_matching_dataframe()\n",
    "        \n",
    "        self.processor = AutoImageProcessor.from_pretrained(\"microsoft/resnet-50\")\n",
    "        self.model = ResNetForImageClassification.from_pretrained(\"microsoft/resnet-50\")\n",
    "        \n",
    "        self.collection_name = 'instagram_data'\n",
    "        # self.collection = qdrant_client.create_collection(\n",
    "        #     collection_name=self.collection_name,\n",
    "        #     vectors_config=VectorParams(\n",
    "        #         size=1000,\n",
    "        #         distance=Distance.COSINE\n",
    "        #     ),\n",
    "        # )\n",
    "\n",
    "    def create_matching_dataframe(self):\n",
    "        matching = []\n",
    "        for i in range(len(self.origin_df)):\n",
    "            post_date = self.origin_df['post_date'][i]\n",
    "            for file in self.train_files:\n",
    "                if file.endswith('.jpg') and post_date == file[:19]:\n",
    "                    image_path = os.path.join(self.data_path, file)\n",
    "                    instagram_user = self.origin_df['username'][i]\n",
    "                    full_name = self.origin_df['full_name'][i]\n",
    "                    bio = self.origin_df['biography'][i]\n",
    "                    caption = self.origin_df['post_caption'][i]\n",
    "                    link = self.origin_df['post_url'][i]\n",
    "                    matching.append({\n",
    "                        'instagram_user': instagram_user,\n",
    "                        'image_path': image_path.replace(\"\\\\\", '/'),\n",
    "                        'link': link,\n",
    "                        'full_name': full_name,\n",
    "                        'bio': bio,\n",
    "                        'caption': caption,\n",
    "                    })\n",
    "        return pd.DataFrame(matching)\n",
    "    \n",
    "    def resize_image(self, image, target_width=256):\n",
    "        image_aspect_ratio = image.size[0] / image.size[1]\n",
    "        resized_img = image.resize(\n",
    "            [target_width, math.floor(target_width * image_aspect_ratio)]\n",
    "        )\n",
    "        return resized_img\n",
    "\n",
    "    def convert_image_to_base64(self, image):\n",
    "        buffered = BytesIO()\n",
    "        image.save(buffered, format=\"JPEG\")\n",
    "        return base64.b64encode(buffered.getvalue()).decode(\"utf-8\")\n",
    "\n",
    "    def upload_item(self, idx):\n",
    "        if idx >= len(self.df_matching):\n",
    "            raise IndexError(\"Index out of range\")\n",
    "        \n",
    "        item_data = self.__getitem__(idx)\n",
    "        row = item_data['row']\n",
    "        encoded_image = item_data['encoded_image']\n",
    "        logits = item_data['logits']\n",
    "    \n",
    "        bio = row['bio'][:512] if isinstance(row['bio'], str) else ''\n",
    "        \n",
    "        points = [\n",
    "            PointStruct(\n",
    "                id=idx,\n",
    "                payload={\n",
    "                    'instagram_user': row['instagram_user'],\n",
    "                    'image_path': row['image_path'],\n",
    "                    'link': row['link'],\n",
    "                    'full_name': row['full_name'],\n",
    "                    'bio': bio,\n",
    "                    'encoded_image': encoded_image,\n",
    "                },\n",
    "                vector=logits.flatten().tolist()\n",
    "            )\n",
    "        ]\n",
    "        \n",
    "        print(qdrant_client.upsert(\n",
    "            collection_name=self.collection_name,\n",
    "            points=points\n",
    "        ))\n",
    "\n",
    "\n",
    "    def __getitem__(self, idx):\n",
    "        if idx >= len(self.df_matching):\n",
    "            raise IndexError(\"Index out of range\")\n",
    "        \n",
    "        row = self.df_matching.iloc[idx]\n",
    "        image = Image.open(row['image_path'])\n",
    "        image = image.convert('RGB')\n",
    "        image = self.resize_image(image)\n",
    "        encoded_image = self.convert_image_to_base64(image)\n",
    "        \n",
    "        inputs = self.processor(images=image, return_tensors=\"pt\")\n",
    "        outputs = self.model(**inputs)\n",
    "        \n",
    "        return {\n",
    "            'row': row.to_dict(),\n",
    "            'image': image,\n",
    "            'encoded_image': encoded_image,\n",
    "            'logits': outputs.logits\n",
    "        }\n",
    "\n",
    "    \n",
    "    def __len__(self):\n",
    "        return len(self.df_matching)\n",
    "        \n",
    "data_path = '../Data/instagram_photo'\n",
    "df_origin = pd.read_excel('../Data/instagram_posts.xlsx')\n",
    "df_origin['post_date'] = df_origin['post_date'].dt.strftime('%Y-%m-%d_%H-%M-%S')\n",
    "matcher = InstagramPhotoMatcher(data_path, df_origin)"
   ],
   "id": "ef61d7ececa1a282",
   "outputs": [],
   "execution_count": 41
  },
  {
   "metadata": {
    "ExecuteTime": {
     "end_time": "2024-06-11T17:29:13.833925Z",
     "start_time": "2024-06-11T17:29:12.298525Z"
    }
   },
   "cell_type": "code",
   "source": [
    "import os\n",
    "import pandas as pd\n",
    "from io import BytesIO\n",
    "import math\n",
    "import base64\n",
    "from transformers import AutoImageProcessor, ResNetForImageClassification\n",
    "from qdrant_client.models import VectorParams, Distance, PointStruct\n",
    "import random\n",
    "\n",
    "\n",
    "fake_username = ['john_doe', 'jane_doe', 'joe_doe', 'jim_doe', 'jill_doe']\n",
    "fake_full_name = ['John Doe', 'Jane Doe', 'Joe Doe', 'Jim Doe', 'Jill Doe']\n",
    "fake_bio = ['I am a person', 'I am a human', 'I am a being', 'I am a creature', 'I am a thing']\n",
    "fake_caption = ['This is a photo', 'This is a picture', 'This is an image', 'This is a snapshot', 'This is a shot']\n",
    "fake_link = ['https://www.instagram.com/john_doe', 'https://www.instagram.com/jane_doe', 'https://www.instagram.com/joe_doe', 'https://www.instagram.com/jim_doe', 'https://www.instagram.com/jill_doe']\n",
    "instagram_main = 'https://www.instagram.com/'\n",
    "\n",
    "class PhotoMatcher_2:\n",
    "    def __init__(self, data_path):\n",
    "        self.data_path = data_path\n",
    "        self.train_files = os.listdir(data_path)\n",
    "        self.df_matching = self.create_matching_dataframe()\n",
    "        \n",
    "        self.processor = AutoImageProcessor.from_pretrained(\"microsoft/resnet-50\")\n",
    "        self.model = ResNetForImageClassification.from_pretrained(\"microsoft/resnet-50\")\n",
    "        \n",
    "        self.collection_name = 'instagram_data'\n",
    "        # self.collection = qdrant_client.create_collection(\n",
    "        #     collection_name=self.collection_name,\n",
    "        #     vectors_config=VectorParams(\n",
    "        #         size=1000,\n",
    "        #         distance=Distance.COSINE\n",
    "        #     ),\n",
    "        # )\n",
    "\n",
    "    def create_matching_dataframe(self):\n",
    "        matching = []\n",
    "        for file in self.train_files:\n",
    "            if file.endswith('.jpg'):\n",
    "                image_path = os.path.join(self.data_path, file)\n",
    "                instagram_user = random.choice(fake_username)\n",
    "                full_name = random.choice(fake_full_name)\n",
    "                bio = random.choice(fake_bio)\n",
    "                caption = random.choice(fake_caption)\n",
    "                matching.append({\n",
    "                    'instagram_user': instagram_user,\n",
    "                    'image_path': image_path.replace(\"\\\\\", '/'),\n",
    "                    'link': instagram_main,\n",
    "                    'full_name': full_name,\n",
    "                    'bio': bio,\n",
    "                    'caption': caption,\n",
    "                    'image_path': image_path.replace(\"\\\\\", '/'),\n",
    "                })\n",
    "        return pd.DataFrame(matching)\n",
    "    \n",
    "    def resize_image(self, image, target_width=256):\n",
    "        image_aspect_ratio = image.size[0] / image.size[1]\n",
    "        resized_img = image.resize(\n",
    "            [target_width, math.floor(target_width * image_aspect_ratio)]\n",
    "        )\n",
    "        return resized_img\n",
    "\n",
    "    def convert_image_to_base64(self, image):\n",
    "        buffered = BytesIO()\n",
    "        image.save(buffered, format=\"JPEG\")\n",
    "        return base64.b64encode(buffered.getvalue()).decode(\"utf-8\")\n",
    "\n",
    "    def upload_item(self, idx):\n",
    "        if idx >= len(self.df_matching):\n",
    "            raise IndexError(\"Index out of range\")\n",
    "        \n",
    "        item_data = self.__getitem__(idx)\n",
    "        row = item_data['row']\n",
    "        encoded_image = item_data['encoded_image']\n",
    "        logits = item_data['logits']\n",
    "    \n",
    "        bio = row['bio'][:512] if isinstance(row['bio'], str) else ''\n",
    "        \n",
    "        points = [\n",
    "            PointStruct(\n",
    "                id=idx,\n",
    "                payload={\n",
    "                    'instagram_user': row['instagram_user'],\n",
    "                    'image_path': row['image_path'],\n",
    "                    'link': row['link'],\n",
    "                    'full_name': row['full_name'],\n",
    "                    'bio': bio,\n",
    "                    'encoded_image': encoded_image,\n",
    "                },\n",
    "                vector=logits.flatten().tolist()\n",
    "            )\n",
    "        ]\n",
    "        \n",
    "        print(qdrant_client.upsert(\n",
    "            collection_name=self.collection_name,\n",
    "            points=points\n",
    "        ))\n",
    "\n",
    "\n",
    "    def __getitem__(self, idx):\n",
    "        if idx >= len(self.df_matching):\n",
    "            raise IndexError(\"Index out of range\")\n",
    "        \n",
    "        row = self.df_matching.iloc[idx]\n",
    "        image = Image.open(row['image_path'])\n",
    "        image = image.convert('RGB')\n",
    "        image = self.resize_image(image)\n",
    "        encoded_image = self.convert_image_to_base64(image)\n",
    "        \n",
    "        inputs = self.processor(images=image, return_tensors=\"pt\")\n",
    "        outputs = self.model(**inputs)\n",
    "        \n",
    "        return {\n",
    "            'row': row.to_dict(),\n",
    "            'image': image,\n",
    "            'encoded_image': encoded_image,\n",
    "            'logits': outputs.logits\n",
    "        }\n",
    "\n",
    "    \n",
    "    def __len__(self):\n",
    "        return len(self.df_matching)\n",
    "        \n",
    "data2_path = '../Data/photos_2'\n",
    "matcher2 = PhotoMatcher_2(data2_path)"
   ],
   "id": "29628aa884031af0",
   "outputs": [],
   "execution_count": 3
  },
  {
   "metadata": {
    "ExecuteTime": {
     "end_time": "2024-06-11T17:31:13.542034Z",
     "start_time": "2024-06-11T17:30:16.779845Z"
    }
   },
   "cell_type": "code",
   "source": [
    "for i in range(len(matcher2)):\n",
    "    matcher2.upload_item(i)"
   ],
   "id": "a57925ad5b93f8a1",
   "outputs": [
    {
     "name": "stdout",
     "output_type": "stream",
     "text": [
      "operation_id=2663 status=<UpdateStatus.COMPLETED: 'completed'>\n",
      "operation_id=2664 status=<UpdateStatus.COMPLETED: 'completed'>\n",
      "operation_id=2665 status=<UpdateStatus.COMPLETED: 'completed'>\n",
      "operation_id=2666 status=<UpdateStatus.COMPLETED: 'completed'>\n",
      "operation_id=2667 status=<UpdateStatus.COMPLETED: 'completed'>\n",
      "operation_id=2668 status=<UpdateStatus.COMPLETED: 'completed'>\n",
      "operation_id=2669 status=<UpdateStatus.COMPLETED: 'completed'>\n",
      "operation_id=2670 status=<UpdateStatus.COMPLETED: 'completed'>\n",
      "operation_id=2671 status=<UpdateStatus.COMPLETED: 'completed'>\n",
      "operation_id=2672 status=<UpdateStatus.COMPLETED: 'completed'>\n",
      "operation_id=2673 status=<UpdateStatus.COMPLETED: 'completed'>\n",
      "operation_id=2674 status=<UpdateStatus.COMPLETED: 'completed'>\n",
      "operation_id=2675 status=<UpdateStatus.COMPLETED: 'completed'>\n",
      "operation_id=2676 status=<UpdateStatus.COMPLETED: 'completed'>\n",
      "operation_id=2677 status=<UpdateStatus.COMPLETED: 'completed'>\n",
      "operation_id=2678 status=<UpdateStatus.COMPLETED: 'completed'>\n",
      "operation_id=2679 status=<UpdateStatus.COMPLETED: 'completed'>\n",
      "operation_id=2680 status=<UpdateStatus.COMPLETED: 'completed'>\n",
      "operation_id=2681 status=<UpdateStatus.COMPLETED: 'completed'>\n",
      "operation_id=2682 status=<UpdateStatus.COMPLETED: 'completed'>\n",
      "operation_id=2683 status=<UpdateStatus.COMPLETED: 'completed'>\n",
      "operation_id=2684 status=<UpdateStatus.COMPLETED: 'completed'>\n",
      "operation_id=2685 status=<UpdateStatus.COMPLETED: 'completed'>\n",
      "operation_id=2686 status=<UpdateStatus.COMPLETED: 'completed'>\n",
      "operation_id=2687 status=<UpdateStatus.COMPLETED: 'completed'>\n",
      "operation_id=2688 status=<UpdateStatus.COMPLETED: 'completed'>\n",
      "operation_id=2689 status=<UpdateStatus.COMPLETED: 'completed'>\n",
      "operation_id=2690 status=<UpdateStatus.COMPLETED: 'completed'>\n",
      "operation_id=2691 status=<UpdateStatus.COMPLETED: 'completed'>\n",
      "operation_id=2692 status=<UpdateStatus.COMPLETED: 'completed'>\n",
      "operation_id=2693 status=<UpdateStatus.COMPLETED: 'completed'>\n",
      "operation_id=2694 status=<UpdateStatus.COMPLETED: 'completed'>\n",
      "operation_id=2695 status=<UpdateStatus.COMPLETED: 'completed'>\n",
      "operation_id=2696 status=<UpdateStatus.COMPLETED: 'completed'>\n",
      "operation_id=2697 status=<UpdateStatus.COMPLETED: 'completed'>\n",
      "operation_id=2698 status=<UpdateStatus.COMPLETED: 'completed'>\n",
      "operation_id=2699 status=<UpdateStatus.COMPLETED: 'completed'>\n",
      "operation_id=2700 status=<UpdateStatus.COMPLETED: 'completed'>\n",
      "operation_id=2701 status=<UpdateStatus.COMPLETED: 'completed'>\n",
      "operation_id=2702 status=<UpdateStatus.COMPLETED: 'completed'>\n",
      "operation_id=2703 status=<UpdateStatus.COMPLETED: 'completed'>\n",
      "operation_id=2704 status=<UpdateStatus.COMPLETED: 'completed'>\n",
      "operation_id=2705 status=<UpdateStatus.COMPLETED: 'completed'>\n",
      "operation_id=2706 status=<UpdateStatus.COMPLETED: 'completed'>\n",
      "operation_id=2707 status=<UpdateStatus.COMPLETED: 'completed'>\n",
      "operation_id=2708 status=<UpdateStatus.COMPLETED: 'completed'>\n",
      "operation_id=2709 status=<UpdateStatus.COMPLETED: 'completed'>\n",
      "operation_id=2710 status=<UpdateStatus.COMPLETED: 'completed'>\n",
      "operation_id=2711 status=<UpdateStatus.COMPLETED: 'completed'>\n",
      "operation_id=2712 status=<UpdateStatus.COMPLETED: 'completed'>\n",
      "operation_id=2713 status=<UpdateStatus.COMPLETED: 'completed'>\n",
      "operation_id=2714 status=<UpdateStatus.COMPLETED: 'completed'>\n",
      "operation_id=2715 status=<UpdateStatus.COMPLETED: 'completed'>\n",
      "operation_id=2716 status=<UpdateStatus.COMPLETED: 'completed'>\n",
      "operation_id=2717 status=<UpdateStatus.COMPLETED: 'completed'>\n",
      "operation_id=2718 status=<UpdateStatus.COMPLETED: 'completed'>\n",
      "operation_id=2719 status=<UpdateStatus.COMPLETED: 'completed'>\n",
      "operation_id=2720 status=<UpdateStatus.COMPLETED: 'completed'>\n",
      "operation_id=2721 status=<UpdateStatus.COMPLETED: 'completed'>\n",
      "operation_id=2722 status=<UpdateStatus.COMPLETED: 'completed'>\n",
      "operation_id=2723 status=<UpdateStatus.COMPLETED: 'completed'>\n",
      "operation_id=2724 status=<UpdateStatus.COMPLETED: 'completed'>\n",
      "operation_id=2725 status=<UpdateStatus.COMPLETED: 'completed'>\n",
      "operation_id=2726 status=<UpdateStatus.COMPLETED: 'completed'>\n",
      "operation_id=2727 status=<UpdateStatus.COMPLETED: 'completed'>\n",
      "operation_id=2728 status=<UpdateStatus.COMPLETED: 'completed'>\n",
      "operation_id=2729 status=<UpdateStatus.COMPLETED: 'completed'>\n",
      "operation_id=2730 status=<UpdateStatus.COMPLETED: 'completed'>\n",
      "operation_id=2731 status=<UpdateStatus.COMPLETED: 'completed'>\n",
      "operation_id=2732 status=<UpdateStatus.COMPLETED: 'completed'>\n",
      "operation_id=2733 status=<UpdateStatus.COMPLETED: 'completed'>\n",
      "operation_id=2734 status=<UpdateStatus.COMPLETED: 'completed'>\n",
      "operation_id=2735 status=<UpdateStatus.COMPLETED: 'completed'>\n",
      "operation_id=2736 status=<UpdateStatus.COMPLETED: 'completed'>\n",
      "operation_id=2737 status=<UpdateStatus.COMPLETED: 'completed'>\n",
      "operation_id=2738 status=<UpdateStatus.COMPLETED: 'completed'>\n",
      "operation_id=2739 status=<UpdateStatus.COMPLETED: 'completed'>\n",
      "operation_id=2740 status=<UpdateStatus.COMPLETED: 'completed'>\n",
      "operation_id=2741 status=<UpdateStatus.COMPLETED: 'completed'>\n",
      "operation_id=2742 status=<UpdateStatus.COMPLETED: 'completed'>\n",
      "operation_id=2743 status=<UpdateStatus.COMPLETED: 'completed'>\n",
      "operation_id=2744 status=<UpdateStatus.COMPLETED: 'completed'>\n",
      "operation_id=2745 status=<UpdateStatus.COMPLETED: 'completed'>\n",
      "operation_id=2746 status=<UpdateStatus.COMPLETED: 'completed'>\n",
      "operation_id=2747 status=<UpdateStatus.COMPLETED: 'completed'>\n",
      "operation_id=2748 status=<UpdateStatus.COMPLETED: 'completed'>\n",
      "operation_id=2749 status=<UpdateStatus.COMPLETED: 'completed'>\n",
      "operation_id=2750 status=<UpdateStatus.COMPLETED: 'completed'>\n",
      "operation_id=2751 status=<UpdateStatus.COMPLETED: 'completed'>\n",
      "operation_id=2752 status=<UpdateStatus.COMPLETED: 'completed'>\n",
      "operation_id=2753 status=<UpdateStatus.COMPLETED: 'completed'>\n",
      "operation_id=2754 status=<UpdateStatus.COMPLETED: 'completed'>\n",
      "operation_id=2755 status=<UpdateStatus.COMPLETED: 'completed'>\n",
      "operation_id=2756 status=<UpdateStatus.COMPLETED: 'completed'>\n",
      "operation_id=2757 status=<UpdateStatus.COMPLETED: 'completed'>\n",
      "operation_id=2758 status=<UpdateStatus.COMPLETED: 'completed'>\n",
      "operation_id=2759 status=<UpdateStatus.COMPLETED: 'completed'>\n",
      "operation_id=2760 status=<UpdateStatus.COMPLETED: 'completed'>\n",
      "operation_id=2761 status=<UpdateStatus.COMPLETED: 'completed'>\n",
      "operation_id=2762 status=<UpdateStatus.COMPLETED: 'completed'>\n",
      "operation_id=2763 status=<UpdateStatus.COMPLETED: 'completed'>\n",
      "operation_id=2764 status=<UpdateStatus.COMPLETED: 'completed'>\n",
      "operation_id=2765 status=<UpdateStatus.COMPLETED: 'completed'>\n",
      "operation_id=2766 status=<UpdateStatus.COMPLETED: 'completed'>\n",
      "operation_id=2767 status=<UpdateStatus.COMPLETED: 'completed'>\n",
      "operation_id=2768 status=<UpdateStatus.COMPLETED: 'completed'>\n",
      "operation_id=2769 status=<UpdateStatus.COMPLETED: 'completed'>\n",
      "operation_id=2770 status=<UpdateStatus.COMPLETED: 'completed'>\n",
      "operation_id=2771 status=<UpdateStatus.COMPLETED: 'completed'>\n",
      "operation_id=2772 status=<UpdateStatus.COMPLETED: 'completed'>\n",
      "operation_id=2773 status=<UpdateStatus.COMPLETED: 'completed'>\n",
      "operation_id=2774 status=<UpdateStatus.COMPLETED: 'completed'>\n",
      "operation_id=2775 status=<UpdateStatus.COMPLETED: 'completed'>\n",
      "operation_id=2776 status=<UpdateStatus.COMPLETED: 'completed'>\n",
      "operation_id=2777 status=<UpdateStatus.COMPLETED: 'completed'>\n",
      "operation_id=2778 status=<UpdateStatus.COMPLETED: 'completed'>\n",
      "operation_id=2779 status=<UpdateStatus.COMPLETED: 'completed'>\n",
      "operation_id=2780 status=<UpdateStatus.COMPLETED: 'completed'>\n",
      "operation_id=2781 status=<UpdateStatus.COMPLETED: 'completed'>\n",
      "operation_id=2782 status=<UpdateStatus.COMPLETED: 'completed'>\n",
      "operation_id=2783 status=<UpdateStatus.COMPLETED: 'completed'>\n",
      "operation_id=2784 status=<UpdateStatus.COMPLETED: 'completed'>\n",
      "operation_id=2785 status=<UpdateStatus.COMPLETED: 'completed'>\n",
      "operation_id=2786 status=<UpdateStatus.COMPLETED: 'completed'>\n",
      "operation_id=2787 status=<UpdateStatus.COMPLETED: 'completed'>\n",
      "operation_id=2788 status=<UpdateStatus.COMPLETED: 'completed'>\n",
      "operation_id=2789 status=<UpdateStatus.COMPLETED: 'completed'>\n",
      "operation_id=2790 status=<UpdateStatus.COMPLETED: 'completed'>\n",
      "operation_id=2791 status=<UpdateStatus.COMPLETED: 'completed'>\n",
      "operation_id=2792 status=<UpdateStatus.COMPLETED: 'completed'>\n",
      "operation_id=2793 status=<UpdateStatus.COMPLETED: 'completed'>\n",
      "operation_id=2794 status=<UpdateStatus.COMPLETED: 'completed'>\n",
      "operation_id=2795 status=<UpdateStatus.COMPLETED: 'completed'>\n",
      "operation_id=2796 status=<UpdateStatus.COMPLETED: 'completed'>\n",
      "operation_id=2797 status=<UpdateStatus.COMPLETED: 'completed'>\n",
      "operation_id=2798 status=<UpdateStatus.COMPLETED: 'completed'>\n",
      "operation_id=2799 status=<UpdateStatus.COMPLETED: 'completed'>\n",
      "operation_id=2800 status=<UpdateStatus.COMPLETED: 'completed'>\n",
      "operation_id=2801 status=<UpdateStatus.COMPLETED: 'completed'>\n",
      "operation_id=2802 status=<UpdateStatus.COMPLETED: 'completed'>\n",
      "operation_id=2803 status=<UpdateStatus.COMPLETED: 'completed'>\n",
      "operation_id=2804 status=<UpdateStatus.COMPLETED: 'completed'>\n",
      "operation_id=2805 status=<UpdateStatus.COMPLETED: 'completed'>\n",
      "operation_id=2806 status=<UpdateStatus.COMPLETED: 'completed'>\n",
      "operation_id=2807 status=<UpdateStatus.COMPLETED: 'completed'>\n",
      "operation_id=2808 status=<UpdateStatus.COMPLETED: 'completed'>\n",
      "operation_id=2809 status=<UpdateStatus.COMPLETED: 'completed'>\n",
      "operation_id=2810 status=<UpdateStatus.COMPLETED: 'completed'>\n",
      "operation_id=2811 status=<UpdateStatus.COMPLETED: 'completed'>\n",
      "operation_id=2812 status=<UpdateStatus.COMPLETED: 'completed'>\n",
      "operation_id=2813 status=<UpdateStatus.COMPLETED: 'completed'>\n",
      "operation_id=2814 status=<UpdateStatus.COMPLETED: 'completed'>\n",
      "operation_id=2815 status=<UpdateStatus.COMPLETED: 'completed'>\n",
      "operation_id=2816 status=<UpdateStatus.COMPLETED: 'completed'>\n",
      "operation_id=2817 status=<UpdateStatus.COMPLETED: 'completed'>\n",
      "operation_id=2818 status=<UpdateStatus.COMPLETED: 'completed'>\n",
      "operation_id=2819 status=<UpdateStatus.COMPLETED: 'completed'>\n",
      "operation_id=2820 status=<UpdateStatus.COMPLETED: 'completed'>\n",
      "operation_id=2821 status=<UpdateStatus.COMPLETED: 'completed'>\n",
      "operation_id=2822 status=<UpdateStatus.COMPLETED: 'completed'>\n",
      "operation_id=2823 status=<UpdateStatus.COMPLETED: 'completed'>\n",
      "operation_id=2824 status=<UpdateStatus.COMPLETED: 'completed'>\n",
      "operation_id=2825 status=<UpdateStatus.COMPLETED: 'completed'>\n",
      "operation_id=2826 status=<UpdateStatus.COMPLETED: 'completed'>\n",
      "operation_id=2827 status=<UpdateStatus.COMPLETED: 'completed'>\n",
      "operation_id=2828 status=<UpdateStatus.COMPLETED: 'completed'>\n",
      "operation_id=2829 status=<UpdateStatus.COMPLETED: 'completed'>\n",
      "operation_id=2830 status=<UpdateStatus.COMPLETED: 'completed'>\n",
      "operation_id=2831 status=<UpdateStatus.COMPLETED: 'completed'>\n",
      "operation_id=2832 status=<UpdateStatus.COMPLETED: 'completed'>\n",
      "operation_id=2833 status=<UpdateStatus.COMPLETED: 'completed'>\n",
      "operation_id=2834 status=<UpdateStatus.COMPLETED: 'completed'>\n",
      "operation_id=2835 status=<UpdateStatus.COMPLETED: 'completed'>\n",
      "operation_id=2836 status=<UpdateStatus.COMPLETED: 'completed'>\n",
      "operation_id=2837 status=<UpdateStatus.COMPLETED: 'completed'>\n",
      "operation_id=2838 status=<UpdateStatus.COMPLETED: 'completed'>\n",
      "operation_id=2839 status=<UpdateStatus.COMPLETED: 'completed'>\n",
      "operation_id=2840 status=<UpdateStatus.COMPLETED: 'completed'>\n",
      "operation_id=2841 status=<UpdateStatus.COMPLETED: 'completed'>\n",
      "operation_id=2842 status=<UpdateStatus.COMPLETED: 'completed'>\n",
      "operation_id=2843 status=<UpdateStatus.COMPLETED: 'completed'>\n",
      "operation_id=2844 status=<UpdateStatus.COMPLETED: 'completed'>\n",
      "operation_id=2845 status=<UpdateStatus.COMPLETED: 'completed'>\n",
      "operation_id=2846 status=<UpdateStatus.COMPLETED: 'completed'>\n",
      "operation_id=2847 status=<UpdateStatus.COMPLETED: 'completed'>\n",
      "operation_id=2848 status=<UpdateStatus.COMPLETED: 'completed'>\n",
      "operation_id=2849 status=<UpdateStatus.COMPLETED: 'completed'>\n",
      "operation_id=2850 status=<UpdateStatus.COMPLETED: 'completed'>\n",
      "operation_id=2851 status=<UpdateStatus.COMPLETED: 'completed'>\n",
      "operation_id=2852 status=<UpdateStatus.COMPLETED: 'completed'>\n",
      "operation_id=2853 status=<UpdateStatus.COMPLETED: 'completed'>\n",
      "operation_id=2854 status=<UpdateStatus.COMPLETED: 'completed'>\n",
      "operation_id=2855 status=<UpdateStatus.COMPLETED: 'completed'>\n"
     ]
    }
   ],
   "execution_count": 9
  },
  {
   "metadata": {
    "ExecuteTime": {
     "end_time": "2024-06-11T16:22:57.805605Z",
     "start_time": "2024-06-11T16:22:55.746266Z"
    }
   },
   "cell_type": "code",
   "source": [
    "# import os\n",
    "# import pandas as pd\n",
    "# from io import BytesIO\n",
    "# import math\n",
    "# import base64\n",
    "# from transformers import AutoImageProcessor, ResNetForImageClassification\n",
    "# from qdrant_client.models import VectorParams, Distance, PointStruct\n",
    "# \n",
    "# class InstagramPhotoMatcher:\n",
    "#     def __init__(self, data_path, origin_df):\n",
    "#         self.data_path = data_path\n",
    "#         self.origin_df = origin_df\n",
    "#         self.train_files = os.listdir(data_path)\n",
    "#         self.df_matching = self.create_matching_dataframe()\n",
    "#         \n",
    "#         self.processor = AutoImageProcessor.from_pretrained(\"microsoft/resnet-50\")\n",
    "#         self.model = ResNetForImageClassification.from_pretrained(\"microsoft/resnet-50\")\n",
    "#         \n",
    "#         self.collection_name = 'instagram_data'\n",
    "#         # self.collection = qdrant_client.create_collection(\n",
    "#         #     collection_name=self.collection_name,\n",
    "#         #     vectors_config=VectorParams(\n",
    "#         #         size=1000,\n",
    "#         #         distance=Distance.COSINE\n",
    "#         #     ),\n",
    "#         # )\n",
    "# \n",
    "#     def create_matching_dataframe(self):\n",
    "#         matching = []\n",
    "#         for i in range(len(self.origin_df)):\n",
    "#             post_date = self.origin_df['post_date'][i]\n",
    "#             for file in self.train_files:\n",
    "#                 if file.endswith('.jpg') and post_date == file[:19]:\n",
    "#                     image_path = os.path.join(self.data_path, file)\n",
    "#                     instagram_user = self.origin_df['username'][i]\n",
    "#                     full_name = self.origin_df['full_name'][i]\n",
    "#                     bio = self.origin_df['biography'][i]\n",
    "#                     caption = self.origin_df['post_caption'][i]\n",
    "#                     link = self.origin_df['post_url'][i]\n",
    "#                     matching.append({\n",
    "#                         'instagram_user': instagram_user,\n",
    "#                         'image_path': image_path.replace(\"\\\\\", '/'),\n",
    "#                         'link': link,\n",
    "#                         'full_name': full_name,\n",
    "#                         'bio': bio,\n",
    "#                         'caption': caption,\n",
    "#                     })\n",
    "#         return pd.DataFrame(matching)\n",
    "#     \n",
    "#     def resize_image(self, image, target_width=256):\n",
    "#         image_aspect_ratio = image.size[0] / image.size[1]\n",
    "#         resized_img = image.resize(\n",
    "#             [target_width, math.floor(target_width * image_aspect_ratio)]\n",
    "#         )\n",
    "#         return resized_img\n",
    "# \n",
    "#     def convert_image_to_base64(self, image):\n",
    "#         buffered = BytesIO()\n",
    "#         image.save(buffered, format=\"JPEG\")\n",
    "#         return base64.b64encode(buffered.getvalue()).decode(\"utf-8\")\n",
    "# \n",
    "#     def __getitem__(self, idx):\n",
    "#         if idx >= len(self.df_matching):\n",
    "#             raise IndexError(\"Index out of range\")\n",
    "#         \n",
    "#         row = self.df_matching.iloc[idx]\n",
    "#         image = Image.open(row['image_path'])\n",
    "#         image = image.convert('RGB')\n",
    "#         image = self.resize_image(image)\n",
    "#         encoded_image = self.convert_image_to_base64(image)\n",
    "#         \n",
    "#         inputs = self.processor(images=image, return_tensors=\"pt\")\n",
    "#         outputs = self.model(**inputs)\n",
    "#         \n",
    "#         # points = [\n",
    "#         #     models.PointStruct(\n",
    "#         #         id=idx,\n",
    "#         #         payload=data_dict[idx],\n",
    "#         #         vector=embeddings[idx].flatten().tolist()\n",
    "#         #     )\n",
    "#         #     for idx, _ in enumerate(data_dict)\n",
    "#         # ]\n",
    "#         \n",
    "#         # convert bio to string and only take the first 512 characters\n",
    "#         if isinstance(row['bio'], str):\n",
    "#             bio = row['bio'][:512]\n",
    "#         else:\n",
    "#             bio = ''\n",
    "#         \n",
    "#         \n",
    "#         points = [\n",
    "#             PointStruct(\n",
    "#                 id=idx,\n",
    "#                 payload={\n",
    "#                     'instagram_user': row['instagram_user'],\n",
    "#                     'image_path': row['image_path'],\n",
    "#                     'link': row['link'],\n",
    "#                     'full_name': row['full_name'],\n",
    "#                     'bio': bio,\n",
    "#                     'encoded_image': encoded_image,\n",
    "#                 },\n",
    "#                 vector=outputs.logits.flatten().tolist()\n",
    "#             )\n",
    "#         ]\n",
    "#         \n",
    "#         qdrant_client.upsert(\n",
    "#             collection_name=self.collection_name,\n",
    "#             points=points\n",
    "#         )\n",
    "#         # data_dict[i] = {\n",
    "#         #     'instagram_user': matcher[i][0]['instagram_user'],\n",
    "#         #     'image_path': matcher[i][0]['image_path'],\n",
    "#         #     'link': matcher[i][0]['link'],\n",
    "#         #     'full_name': matcher[i][0]['full_name'],\n",
    "#         #     'bio': matcher[i][0]['bio'],\n",
    "#         #     'encoded_image': matcher[i][2],\n",
    "#         # }\n",
    "#         \n",
    "#         return self.df_matching.iloc[idx].to_dict(), image, encoded_image, outputs.logits\n",
    "#     \n",
    "#     def __len__(self):\n",
    "#         return len(self.df_matching)\n",
    "#         \n",
    "# # Usage\n",
    "# # df_origin = pd.DataFrame({...})  # Assuming df_origin is already defined\n",
    "# data_path = '../Data/instagram_photo'\n",
    "# df_origin = pd.read_excel('../Data/instagram_posts.xlsx')\n",
    "# df_origin['post_date'] = df_origin['post_date'].dt.strftime('%Y-%m-%d_%H-%M-%S')\n",
    "# matcher = InstagramPhotoMatcher(data_path, df_origin)"
   ],
   "id": "b5a30e393f9817b0",
   "outputs": [],
   "execution_count": 29
  },
  {
   "metadata": {
    "ExecuteTime": {
     "end_time": "2024-06-11T16:26:27.062508Z",
     "start_time": "2024-06-11T16:22:58.177938Z"
    }
   },
   "cell_type": "code",
   "source": [
    "# for i in range(1852, len(matcher)):\n",
    "#     matcher[i]"
   ],
   "id": "37a94f01ba10018b",
   "outputs": [],
   "execution_count": 30
  },
  {
   "metadata": {
    "ExecuteTime": {
     "end_time": "2024-06-11T15:43:51.651320Z",
     "start_time": "2024-06-11T15:43:51.647216Z"
    }
   },
   "cell_type": "code",
   "source": [
    "# from io import BytesIO\n",
    "# import math\n",
    "# import base64\n",
    "# \n",
    "# target_width = 128\n",
    "# def resize_image(image_path):\n",
    "#     pil_img = Image.open(image_path)\n",
    "#     image_aspect_ratio = pil_img.size[0] / pil_img.size[1]\n",
    "#     resized_img = pil_img.resize(\n",
    "#         [target_width, math.floor(target_width * image_aspect_ratio)]\n",
    "#     )\n",
    "#     return resized_img\n",
    "# \n",
    "# def convert_image_to_base64(image):\n",
    "#     buffered = BytesIO()\n",
    "#     image.save(buffered, format=\"JPEG\")\n",
    "#     return base64.b64encode(buffered.getvalue()).decode(\"utf-8\")\n",
    "# \n",
    "# resize_images = list(map( lambda x: resize_image(x), df_matching['image_path']))\n",
    "# base64_str = list(map( lambda x: convert_image_to_base64(x), resize_images))\n",
    "# \n",
    "# # resized_images = list(map( lambda x: resize_image(x), train_samples_files))\n",
    "# # base64_str = list(map( lambda x: convert_image_to_base64(x), resized_images))\n",
    "# # payload['image'] = base64_str"
   ],
   "id": "28d9ff9fa5d34a0c",
   "outputs": [],
   "execution_count": 6
  },
  {
   "metadata": {
    "ExecuteTime": {
     "end_time": "2024-06-11T15:43:51.658140Z",
     "start_time": "2024-06-11T15:43:51.652326Z"
    }
   },
   "cell_type": "code",
   "source": [
    "# TRAIN_BASE_PATH = '../afhq/train'\n",
    "# NUM_SAMPLE_FOR_CLASS = 50\n",
    "# \n",
    "# df = pd.DataFrame()\n",
    "# for class_id, class_path in enumerate(os.listdir(TRAIN_BASE_PATH)):\n",
    "#     class_file = os.listdir(f'{TRAIN_BASE_PATH}/{class_path}')\n",
    "#     samples_in_class = len(class_file)\n",
    "#     samples_in_class = min(samples_in_class, NUM_SAMPLE_FOR_CLASS)\n",
    "#     \n",
    "#     train_samples_files = class_file[:samples_in_class]\n",
    "#     train_samples_files = list(map(lambda x: f'{TRAIN_BASE_PATH}/{class_path}/{x}', train_samples_files))\n",
    "#     train_samples_images = list(map(lambda x: Image.open(x), train_samples_files))\n",
    "#     \n",
    "#     payload = DataFrame.from_records({\n",
    "#         'image_path': train_samples_files,\n",
    "#     })\n",
    "#     payload['type'] = class_path\n",
    "#     df = pd.concat([df, payload])\n",
    "# df"
   ],
   "id": "5a394e506ee8f19b",
   "outputs": [],
   "execution_count": 7
  },
  {
   "metadata": {
    "ExecuteTime": {
     "end_time": "2024-06-11T15:43:51.665188Z",
     "start_time": "2024-06-11T15:43:51.659151Z"
    }
   },
   "cell_type": "code",
   "source": [
    "# import os\n",
    "# \n",
    "# train_files = os.listdir('../afhq/train/cat')\n",
    "# \n",
    "# train_samples_files = train_files[:200]\n",
    "# train_samples_files = list(map(lambda x: f'../afhq/train/cat/{x}', train_samples_files))\n",
    "# train_samples_images = list(map(lambda x: Image.open(x), train_samples_files))"
   ],
   "id": "e07c67d0475f330f",
   "outputs": [],
   "execution_count": 8
  },
  {
   "metadata": {
    "ExecuteTime": {
     "end_time": "2024-06-11T15:43:51.670882Z",
     "start_time": "2024-06-11T15:43:51.666583Z"
    }
   },
   "cell_type": "code",
   "source": [
    "# payload = DataFrame.from_records({\n",
    "#         'image_path': train_samples_files,\n",
    "#     })\n",
    "# payload['type'] = 'cat'\n",
    "# payload"
   ],
   "id": "bcaf8ce048431e3d",
   "outputs": [],
   "execution_count": 9
  },
  {
   "metadata": {
    "ExecuteTime": {
     "end_time": "2024-06-11T15:43:51.677845Z",
     "start_time": "2024-06-11T15:43:51.672892Z"
    }
   },
   "cell_type": "code",
   "source": [
    "# from io import BytesIO\n",
    "# import math\n",
    "# import base64\n",
    "# \n",
    "# target_width = 256\n",
    "# def resize_image(image_path):\n",
    "#     pil_img = Image.open(image_path)\n",
    "#     image_aspect_ratio = pil_img.size[0] / pil_img.size[1]\n",
    "#     resized_img = pil_img.resize(\n",
    "#         [target_width, math.floor(target_width * image_aspect_ratio)]\n",
    "#     )\n",
    "#     return resized_img\n",
    "# \n",
    "# def convert_image_to_base64(image):\n",
    "#     buffered = BytesIO()\n",
    "#     image.save(buffered, format=\"JPEG\")\n",
    "#     return base64.b64encode(buffered.getvalue()).decode(\"utf-8\")\n",
    "# \n",
    "# \n",
    "# resized_images = list(map( lambda x: resize_image(x), train_samples_files))\n",
    "# base64_str = list(map( lambda x: convert_image_to_base64(x), resized_images))\n",
    "# payload['image'] = base64_str"
   ],
   "id": "ce11f93266d87380",
   "outputs": [],
   "execution_count": 10
  },
  {
   "metadata": {
    "ExecuteTime": {
     "end_time": "2024-06-11T15:43:51.684506Z",
     "start_time": "2024-06-11T15:43:51.678853Z"
    }
   },
   "cell_type": "code",
   "source": "# payload",
   "id": "5efa8b2a3117c984",
   "outputs": [],
   "execution_count": 11
  },
  {
   "metadata": {
    "ExecuteTime": {
     "end_time": "2024-06-11T15:43:51.688356Z",
     "start_time": "2024-06-11T15:43:51.685523Z"
    }
   },
   "cell_type": "code",
   "source": "",
   "id": "78bcf59c3f181bd2",
   "outputs": [],
   "execution_count": 11
  },
  {
   "metadata": {
    "ExecuteTime": {
     "end_time": "2024-06-11T15:43:51.692583Z",
     "start_time": "2024-06-11T15:43:51.689365Z"
    }
   },
   "cell_type": "code",
   "source": [
    "# resized_images = []\n",
    "# for i in range(len(data)):\n",
    "#     resized_image, _, _ = data[i]\n",
    "#     resized_images.append(resized_image)\n",
    "# resized_images"
   ],
   "id": "133cc641bf3cbf4b",
   "outputs": [],
   "execution_count": 12
  },
  {
   "metadata": {
    "ExecuteTime": {
     "end_time": "2024-06-11T15:43:51.699563Z",
     "start_time": "2024-06-11T15:43:51.693589Z"
    }
   },
   "cell_type": "code",
   "source": "# len(matcher)",
   "id": "ce3ebfb0ff840fd1",
   "outputs": [],
   "execution_count": 13
  },
  {
   "metadata": {
    "ExecuteTime": {
     "end_time": "2024-06-11T15:43:51.705587Z",
     "start_time": "2024-06-11T15:43:51.700592Z"
    }
   },
   "cell_type": "code",
   "source": [
    "# resized_images = []\n",
    "# for i in range(50):\n",
    "#     _, image, _ = matcher[i]\n",
    "#     resized_images.append(image)\n",
    "#     \n",
    "# len(resized_images)"
   ],
   "id": "5ddcd61c18700a3a",
   "outputs": [],
   "execution_count": 14
  },
  {
   "metadata": {
    "ExecuteTime": {
     "end_time": "2024-06-11T15:43:51.711586Z",
     "start_time": "2024-06-11T15:43:51.706595Z"
    }
   },
   "cell_type": "code",
   "source": [
    "# from transformers import AutoImageProcessor, ResNetForImageClassification\n",
    "# \n",
    "# processor = AutoImageProcessor.from_pretrained(\"microsoft/resnet-18\")\n",
    "# model = ResNetForImageClassification.from_pretrained(\"microsoft/resnet-18\")\n",
    "# \n",
    "# inputs = processor(images=resized_images, return_tensors=\"pt\")\n",
    "# outputs = model(**inputs)"
   ],
   "id": "5d84736b4272ad58",
   "outputs": [],
   "execution_count": 15
  },
  {
   "metadata": {
    "ExecuteTime": {
     "end_time": "2024-06-11T15:43:51.718031Z",
     "start_time": "2024-06-11T15:43:51.712596Z"
    }
   },
   "cell_type": "code",
   "source": [
    "# del resized_images\n",
    "# matcher[0][3].shape # => [1, 1000]"
   ],
   "id": "f063f8a0c6d4597c",
   "outputs": [],
   "execution_count": 16
  },
  {
   "metadata": {
    "ExecuteTime": {
     "end_time": "2024-06-11T15:43:51.724547Z",
     "start_time": "2024-06-11T15:43:51.719041Z"
    }
   },
   "cell_type": "code",
   "source": [
    "# embeddings = outputs.logits\n",
    "# embeddings_length = embeddings.shape[1]\n",
    "# embeddings, embeddings_length"
   ],
   "id": "1fb2f983679e38a3",
   "outputs": [],
   "execution_count": 17
  },
  {
   "metadata": {
    "ExecuteTime": {
     "end_time": "2024-06-11T15:45:22.495633Z",
     "start_time": "2024-06-11T15:45:22.492592Z"
    }
   },
   "cell_type": "code",
   "source": "# n_selected = 1000",
   "id": "9235f2e50ee623bb",
   "outputs": [],
   "execution_count": 22
  },
  {
   "metadata": {
    "ExecuteTime": {
     "end_time": "2024-06-11T15:44:27.212181Z",
     "start_time": "2024-06-11T15:44:24.067554Z"
    }
   },
   "cell_type": "code",
   "source": [
    "# from qdrant_client.models import VectorParams, Distance\n",
    "# \n",
    "# collection_name = 'instagram_data'\n",
    "# collection = qdrant_client.create_collection(\n",
    "#     collection_name=collection_name,\n",
    "#     vectors_config=VectorParams(\n",
    "#         size=matcher[0][3].shape[1],\n",
    "#         distance=Distance.COSINE\n",
    "#     ),\n",
    "# )\n",
    "# collection"
   ],
   "id": "f75db53dbe87e55b",
   "outputs": [
    {
     "data": {
      "text/plain": [
       "True"
      ]
     },
     "execution_count": 21,
     "metadata": {},
     "output_type": "execute_result"
    }
   ],
   "execution_count": 21
  },
  {
   "metadata": {
    "ExecuteTime": {
     "end_time": "2024-06-11T15:18:56.490556Z",
     "start_time": "2024-06-11T15:18:56.487637Z"
    }
   },
   "cell_type": "code",
   "source": [
    "# payload_2 = payload.copy()\n",
    "# payload_dicts = payload_2.to_dict(orient='records')\n",
    "# payload_dicts"
   ],
   "id": "bffb0fc692d66d31",
   "outputs": [],
   "execution_count": 32
  },
  {
   "metadata": {
    "ExecuteTime": {
     "end_time": "2024-06-11T15:18:56.717874Z",
     "start_time": "2024-06-11T15:18:56.714405Z"
    }
   },
   "cell_type": "code",
   "source": [
    "# from qdrant_client.grpc import PointStruct\n",
    "# from qdrant_client.grpc.points_pb2 import PointId\n",
    "# \n",
    "# points = []\n",
    "# for idx, payload_dict in enumerate(payload):\n",
    "#     point_id = PointId(num=idx)  # Create a PointId object\n",
    "#     vector = embeddings[idx]\n",
    "#     payload = payload_dict\n",
    "# \n",
    "#     points.append(PointStruct(id=point_id, vector=vector, payload=payload))\n",
    "# \n",
    "# print(points)  # Now, you should see correctly structured PointStruct instances\n"
   ],
   "id": "b3b022b07183e2af",
   "outputs": [],
   "execution_count": 33
  },
  {
   "metadata": {
    "ExecuteTime": {
     "end_time": "2024-06-11T15:18:56.960394Z",
     "start_time": "2024-06-11T15:18:56.957384Z"
    }
   },
   "cell_type": "code",
   "source": [
    "# data_dict = {}\n",
    "# for i in range(len(data)):\n",
    "#     image, image_type, encoded_image = data[i]\n",
    "#     data_dict[i] = {'type': image_type, 'image': encoded_image}"
   ],
   "id": "3dc4b887f6516569",
   "outputs": [],
   "execution_count": 34
  },
  {
   "metadata": {
    "ExecuteTime": {
     "end_time": "2024-06-11T15:56:52.257560Z",
     "start_time": "2024-06-11T15:45:46.139070Z"
    }
   },
   "cell_type": "code",
   "source": [
    "# data_dict = {}\n",
    "# embeddings = []\n",
    "# for i in range(1000):\n",
    "#     data_dict[i] = {\n",
    "#         'instagram_user': matcher[i][0]['instagram_user'],\n",
    "#         'image_path': matcher[i][0]['image_path'],\n",
    "#         'link': matcher[i][0]['link'],\n",
    "#         'full_name': matcher[i][0]['full_name'],\n",
    "#         'bio': matcher[i][0]['bio'],\n",
    "#         'encoded_image': matcher[i][2],\n",
    "#     }\n",
    "#     embeddings.append(matcher[i][3])"
   ],
   "id": "d44f3aa5abc2f612",
   "outputs": [
    {
     "name": "stderr",
     "output_type": "stream",
     "text": [
      "\n",
      "KeyboardInterrupt\n",
      "\n"
     ]
    }
   ],
   "execution_count": 23
  },
  {
   "metadata": {
    "ExecuteTime": {
     "end_time": "2024-06-11T15:25:48.768585Z",
     "start_time": "2024-06-11T15:25:48.763027Z"
    }
   },
   "cell_type": "code",
   "source": "# data_dict[2]",
   "id": "6b6a210031a43236",
   "outputs": [
    {
     "data": {
      "text/plain": [
       "{'instagram_user': 'danyaalsaedan',\n",
       " 'image_path': '../Data/instagram_photo/2024-05-03_20-26-46_UTC.jpg',\n",
       " 'link': 'https://www.instagram.com/p/C6hQpojrg9T/',\n",
       " 'full_name': 'دانية بنت ابراهيم بن سعيدان 🇸🇦🏇',\n",
       " 'bio': 'Etiquette & Protocol Trainer & Consultant\\nMA International Business  @wbsinstagram \\nFounder of @Etiquettehouse - @deesalon.sa \\n👻 DanyaAlsaedan',\n",
       " 'encoded_image': '/9j/4AAQSkZJRgABAQAAAQABAAD/2wBDAAgGBgcGBQgHBwcJCQgKDBQNDAsLDBkSEw8UHRofHh0aHBwgJC4nICIsIxwcKDcpLDAxNDQ0Hyc5PTgyPC4zNDL/2wBDAQgJCQwLDBgNDRgyIRwhMjIyMjIyMjIyMjIyMjIyMjIyMjIyMjIyMjIyMjIyMjIyMjIyMjIyMjIyMjIyMjIyMjL/wAARCADOAQADASIAAhEBAxEB/8QAHwAAAQUBAQEBAQEAAAAAAAAAAAECAwQFBgcICQoL/8QAtRAAAgEDAwIEAwUFBAQAAAF9AQIDAAQRBRIhMUEGE1FhByJxFDKBkaEII0KxwRVS0fAkM2JyggkKFhcYGRolJicoKSo0NTY3ODk6Q0RFRkdISUpTVFVWV1hZWmNkZWZnaGlqc3R1dnd4eXqDhIWGh4iJipKTlJWWl5iZmqKjpKWmp6ipqrKztLW2t7i5usLDxMXGx8jJytLT1NXW19jZ2uHi4+Tl5ufo6erx8vP09fb3+Pn6/8QAHwEAAwEBAQEBAQEBAQAAAAAAAAECAwQFBgcICQoL/8QAtREAAgECBAQDBAcFBAQAAQJ3AAECAxEEBSExBhJBUQdhcRMiMoEIFEKRobHBCSMzUvAVYnLRChYkNOEl8RcYGRomJygpKjU2Nzg5OkNERUZHSElKU1RVVldYWVpjZGVmZ2hpanN0dXZ3eHl6goOEhYaHiImKkpOUlZaXmJmaoqOkpaanqKmqsrO0tba3uLm6wsPExcbHyMnK0tPU1dbX2Nna4uPk5ebn6Onq8vP09fb3+Pn6/9oADAMBAAIRAxEAPwD3g9a5iPx/4dae5ia7ePyJBGHkjKrK2/yyI+7YYgHA71v6jJeQ2Esmn20d1dqMxQyS+WrnPQtg4/KvCJJptJ8dyNBc6VJMdRydphuZ498gBXf5RYYzjkgjpms0ij38jFAHFOI5NCjIoATFLtpwWlxzTsFyPHNFOYYajFIBBUUnDfhUw6VFMORQxoZmkzRRSGFFFFMAooooAQ0ynmmnrTAcOgopB0p1MQlFFFIAooopgFFFFIZw3xa/5EG9/wB+L/0YKwPg8P8Aibqf+oa3/o410PxYGfAF9/vRf+jFrnfg9n+1hjH/ACDm/wDRxrSGzIkezUUwMehFPzSEFFBIHU0gbNAFW9glubKWGG5ktZXUhJ4wC0Z9QGBB/EV43N4Z1SXUbSCew1u4vrW8zGPsdqtqUM24uZVAypHzYIzk9O9ex6jJeQ6fNJp9tHc3ajMUMkvlq5z0LYOPyrwe3mnPjC8SPVrS2t5tQ8u6tpdSSK4lKzBgCWj3EA/d744BwakZ7bpOpy6jPfq8YVYJvLXAPI9/etRO9UrDTE0+W6dJWf7RJvO7+H2q8ow1IB2aRXycYwaRlJ6U4D86etwGv1FFDDApaQDV71HP/DUg6mmT/dH1o6DW5BS0lLUlhRRRTEFFFFABTGqQdajen0AFPFOHWmp0pw60ANzVSa8UB1Y7AO561aNY+oyvAzsojJwSPMzgmpkm9hN2J3vJGeOIcKV3Eg81dgkLRqTnJHeuftLrz7mXeEWaGJUcBwQAecgY6d/etyBtwzUQi07sL3LQNLTRTq1GcZ8VE3fD7Uvbyz/5EWuU+EBB1nBJGNObp/12Ndd8Uf8Akn2qf7qf+jFrkfhBGx1xivbTz/6NNXHZkyPZgMDjApdxAzxio2BU5J5phZ2bbzisnOwJErPuB6YFMBx3IFIExyVpCHdtiEAd6m7YWLI5r571PU21TxcqDVrt2j1MxTrc3kKLlZuPLjWQcYAX5g2evWvoIHmuX/4QLRE1CS8iOoQySTm4ZIr6VYy5OSdobHJ7VpcDqs0Z5FNBytGaLgPzg03O7n0NOBHel6jimIaxytLmkJyDQOlACfxU2f7g+tOPUUyf7o+tLoNbkFFFFSWFFFFAC0UUUCFHWmyDilpzDIqkIhSpBTAMNinigZGw5NZmqxuYiUPJ44wD+dardaqXtqLqExkjHuOtVF2dxNXRzMkRku08u2KTI6+fgDG0gj/Cuks49kSKMkAYyaoWSLJdSBFA2HJIzzyR/wCy1sIuFFEpqWwoqxIKcKaKWoKOP+KI/wCLfan/ALqf+jFrlfg8f+J44/6cD/6Nrq/ih/yT7U/91P8A0Ytcp8IARrrnHH2A/wDoyrj1FLY9lK560m0dacelKBxRYkbtzQAAQBT6aB82aLAQg80p60wdacTWVyxV6Gg01TyaWgQ/ORTg1Q7m9BS7m9BTuFiTNIDxTMt7U4GncQpqOY8gU/NQudzZpNjQ2iiikUFLRRTAKKKz9avZLDSbmeFd06xkxr6t25qZSSV2NK7sZ/iXxdp3hu1eS4kUygcJn+f+FeJ6n8UvFOpXDPYzXqQbjtFvCEXH1wSfxNZMFzL4h8WTSa3K89vb/vJQDwecBR7Z/OvWtJv9LudJkuLSBkihGCm0Z49MHFc7qSTuzthRi1ocFbfFzxLDDFE7r5qH5vPhG5h716R4O+JEetyLZ6rbi0u2GY5B/q5P8DXNznQvFudNvtPuI26pOV+aM+oI/wAa86lnvPDmqXGmXsuZ7OUeU/TcOo/AitoSujOpTS0Z9SHrUZbGe9Y/hfUH1LRIXkbdKFAJPXkcV5NqXxS8TWl5LAZ7KIxlwf8ARs5YHGOtaJ3OZxset6TITdXqMu1lkIH0ya2BXkPh74iXMNjearqVublS0KMIQqYZgxz9PlpdR+Lj6lot+NJtptPu4EEizSFZAQDyMY70Qpyj7r3JurXPXs0oNfPVj8SvE86wvNrEm8yYZBBGFK/XHWvZvCmoXOoeHLO6u5DJNKpYsQBkbjjp7Yq3GyuHWxR+Jgz4A1TH91P/AENa5z4QKp1CRh1Fpj/yIa6P4kH/AIt9qx9Ih/6GteZfCzxlpGgXckmr3nkgwNGPkZud+R0HpVQ2ZMj6Joril+LHg5zhNSZvpA/+FNf4s+EkYr9smJHpA1BJ29FcUvxT8MyD5JblvpF/9emt8U/Dq9Bdn/tmP8aV0VyvsdKLyE/dZD/wOni6hYcyoD/vUmweg/Kl21hqaWQhuYk58xT7Zpv21D0x+tPxRijUNBpvFU84/wC+SaPtozwP/HDT8UYo1DQaLvPY/wDfs077Qff/AL4pMUuKNe4aCiUsO/4jFJRRTEFFFFABSmkooAK81+Kg1KOBZ7OWVYkTMm11AUenrz7V6VXC/ELSNUn0ie7sFEzRtveMnGEA5xnuOtZVleOhtRaU9TyT4f6xFZeKLi2vYow+oRARk/LtdSSF/HJ/HFenpqTW+9TbYfHzbhgY9uea8kbwjdatpp1G3mhkm3kSAMV8kg8AjGdx68e3rXeeGxr2l2J03V7jzbyL5l80biEPTn+IdeawqW+M76Dd3Bo6XT72Xfh7cqnZ5FClvfFeMeNtWtta8X3E0ADwxvt8wLy5UbeD6cGvWXhvNQVkJeRyMbI14/IVwV38OdT/ALaFtAiCaVWljjd9rYzz/jRQlqwxEbrQ7v4a65E0X2X7QhjZB5e5uQRxj2q3rfwk0nWtVnvzeXVs0zF2ii2ldx6kZHGetcBF4Y8TeGbmG/u7Ly7aMhnngCzNH7kDnHvivctG1GPVdJt7yJ96yL97GMkdeK643W5wVLPVHM2nw10m08OXWiiWd4rlw7zMw8wMv3SOMDH9TVbSPhRomk3Dy+ddXSyIyNFOylCCCDkBR2JrvqKu5kcivw18JqFA0aIbRjImk/8Aiq6a2tY7OCOC3ijjijUIiAHCgcACrFFAFHUtMi1awmsbxEktpl2unIyK5MfCPwiDn+zv/Ir/AONd1mihaCOMj+F3haIgppyDHq7n/wBmqT/hWnhnduOmxkn/AGm/xrr6Kd2ByyfD/wAPR/csIl/Fv8ad/wAIFoR62UX5H/GunopDuzPi1q3YDzAyN3GM1cS8t3GRIPxrmixU4IDemetNMxX7pIp8oHViVG6NmlLqBksAPc1yi3cq9HIp3nFjukYn8etHIK50/nxY+Vw3+7zVWfUkhYIIyXJwASATWH9qHrge1RPcKrFo+XxgH09/rRyMLrqa1zrLxuY41TcPxq/YTPLaJJNIpduemMCuS4fhxn+ldFYtmNR6cVUoJKwk7mrx6ij8RUGaTcaiyGWMH1H50bT7fnVfcaA/I5qdB2ZCszwuy5G0HpVlJ1cdMGs+U5kJp6Pt74przKaLs06wwtIckDsOpPoK4HXNE1DxHeEvJNYbCPOj3ZRlPToeTjvXXXs1zHBG9tCZW85Qw27vl79/wz2zRCsVpbM13MgkdgZXcgDcxwBn8gBUyipFQk46ow7nStM8P6DMbGwTa7KPKQHMrMQoBPXuOad4gsIIZdMlCZZFa3BAxkYyP5H860NTkmXUdOt4Vcku0jBTjeqjBU+g+cH/AICKm1Gwa8ksSHAS3uRM+epAVhgfiRUyheLSNYVOWSbJraGHTNPJYqgRC8rn2GST9KqaREs8K6pJCUlukEu1+WXI/wDHcjHApdRu/Oni02KNZDK4Wfeu5VjwScjvnGPTnn0p+pXclpCscMeWYEAt0FXol5Iz1k/Nl2KRN4lBB5xkHPsaoxXqQeIptJhtI40+zC63oNoJLFSD2zwDXOeBjcWXh5ra8/dyWjMzxt15JbJP411KRi/tzMj4WZV2kcZTOefrz+dOOoTjytl/dg4o3UyVj5pJGAenvTQ1J6OxC1VybdRvAODUW6kYBgfU+vNJvTQVifNGaqwyuWCMvP1yac8rI+CyAZ7mpVVNaBYs0VCZ4wu7zFx9ad5qcAuAT0Hc1pcOVklJn3qtdMzBRE+FPBzSrIsaBWbLAc4FZe1XM0wsc845NQPxT2kcDcy49e9RvIGHI/EV0iIyaN3vTM0bqYhxY0BsUwtnAo4x/QVSE0ShjuH1roNNP7oH2rmDktnOMdhXRaRLutVyeaib1KitDUopoagtWbGhGNMzjJoLVG7DBwaQyInJOf1pRwOtRgnNODDIz070FDTq9pFcvbBy0icOFUkqf8n9RWZc6gt/rNvYJCrwxQrqMbtn94yuVC4+pBz607WGs55YfPineUPvVkcBR2x1549RXPE3Gla5DfgXU9vHG0QAUbkQsrY4PIyp/OsnUjs2bRpSaukdfrEs9vPZXkUDPFC7faCH5SMjk7f4uQPpWpkNhhgqeQfWsm/voJtLM0DRzLIm9YywG/jgZ7HNMfVEs9GiP+omcJGiqu/y5G4AxznBI9q1ur2uZcrtsV9J05n1qbUBqVzKiO4CnOJA3IDc4wvIAABGPetHVS8pjtU8pPNBw0oOMgdBgjmk0Ow/szS0tzK7ku0js4GdzEs3T3JNUPE7wahot3Y+eiFhgnbubGecAc5IyB9arZCV5SOU8PpLbWF1A8bag4DC52zs+1o8DHHJ3HcAMc4rstAk1C+SLUrs/ZoZYgIbFOVjHqxxy3HbgD161maRY6bp9pFp8Vw0cBG51d9odu5JOMk9+a0Yr23sdRdtT1Wzt3KYgtjKqhY88Ng4yTj9KmLXQuabvc1fJlSWaVpmkV2G1cACMY6e/c8+tG6rNqV8sgMHDc5znIxVK6Zbe4MZzgjI+lTV933mZw10JN1G+qdxfQWqb5nKr67SajtdWsr1itvcxSMOqqwz+XWsvaRva5pyStexpK4VT27nFYOq3A1FZrKBHD4Kh+gHpz6+1bG73qK4jtni33DGMxkPvXggihpblU5KLu0YVpb3DWX2a/QyArtKlxhz3B9D09KnktoLVl26jNbschYmm3DPXqecfrRcv9saS1D7Z2RduDjByevrx6VgaJpk0MkJubhr3YW3rIST1yNoI7dcc9azdVR21NXW1ujrdP1COS1SJJYzInBKc7u+fXnrWqlwrxKfLCk9eMVnRXFkzmW3CbQgDFUwc54z+ZqVZSz7VBJz0FbKSMJNS1scp/acKk5kC+oJ4pyzCQZjBYH0GRXZyWFpIpDW8RBH9wVX/smFRhGKj6CtZSl9lGS5epzCrI3/ACzb8qebaYjOzGfU1vz6b5dvI0ZDOqEgEcE4+tc1p8+uaxbr9iuba2xKVkc24baox0BPWsXOtezsaqMLXRL9iuuSIwfoRVOeX7NKY5CFcdVJ5rtYbNlQCSV3OOTwM/lipEsrZCSIIwT1O0ZNawc/tGbt0PP8xyv5j5lI6AHIH4Cuk0eC+VN3lhIj90SZB/LFdEqKvCqB9KX8KqTuJaFUJOe6D86UxTno6fkasc0ZNSMqNBcno0f61E0dwi4MJf1KEVeLGovtEZn8kSJ5uN2zPOPX9DSuh6mZJOYj88E6j/rkx/kKrHVrME5lZMf30ZR+orXWS6kt3kljNqY5DwSH3qO4+tTNFFKilwzdxlsY/KncZgySW93CjZV43zscfzBpkull7J2cXEsAIcIDgkDnB6ZB9Kh1nVY7q+j0DT50tbk3UcbPkqxUASSBCB12lf8Avo+lddtSRfnUH0BFT7KM3dmntXBWRy39nSy7SH2x4yFaPB+nHFUXtLm0ukWYmK3LckAk9OqHHBHp/Ouq1RpY0hkEkiWsbFrjyThtuOD64B645xVH+2NHvoLe7W7jZV3eUxYq5B4PB5OcCr9hFAsTN9NDHXWCtsimC4LHqGVlyfoRWMfFMUkxjt7VmIBbKoxGAcHnGOtdJdRPfyRxpNeJZtnzWdFUEY4ABXJBPUY6d6mfTLaVZxPe3hSfiWKP91Gw9Nq+vfuah0U92Wq1tkc7MuvXUGV0WbyiMlpCoAHrjOf0pukeHL0SNeKLSeXgG1lAI255JLKcY9Bj61112rXOmta207QR7AqFYeFA6DGfasKKxsbyGW3iuL0XAG57wjGMc8Ke31FONKMXdA60nGz/ACOts2wuwhQy8EIRgewx0p+oW5uIlZfvofzFVNKi8i1QYwSMkCtCUn7O5U4O3INXOKnFqRy3cZXRkW1sIp380lUI5Ujgn19KsRafpkc3nRWtus3/AD1WIBvzxSJfzrjOxvqK5TXPitZaFrD6c+lz3Lx4EjwuqhSRnGG68Yrkp04vRM1nKW7Ox+RJBtUk+ymiWOOV1aWNjsO4AdM/SuIg+NXhx32yW1/CTwSY1IH5GrqfFvwgyktezR467rd/6Ct1RaMnO50NtZxrG7yIPNmO9+vHoPw4qNNNW3bcimUM3zK3XnuPQj9axF+K/g0/8xU4/wCveT/CtbQ/GmieIrmSDSrlrh413uRCyhR0GSQOtT7GKFzFyLTIVm835t+SSem4H1HeryJHFnYgXPpSFyTTGaqjFLYrUVbhT1qUMrDg1mqCal3FYyR1xWxLROzGZyi8JnBauX8GP5L6panrHMCP1B/lW3p8rNZplssuVb6g1z2jE2/jHVoOgcFx/wB9Z/8AZqxl8SZotmjr2lpnnE1XnaYNGIkDBmIcn+EYPP54oH+8D64NWTYsCU+tOEpquBThTEWPMpgnR5XjVgXQAsvoD0/lULuVXKgseyjvWH4h13+xrWOeQ+X57iLcF3bfQDHUkmpZcY3Zb1O8vPtJsoANpClmx6nHJ7c8VCyodRivdsj3cTiIEP8AJg/e4AGSBnmoNFmaYXiXKmZ2K/Lnljyan1GK4ZoRbIsDRtlecgn+7x6+tTuro1tZ8rNa/jaaxlRSdxHABxnHOPx6VieF9cuNShvI7u1e3ktWURB0Klo2X5c5/iGCDjjIrcmbLAdqxbVtTi1fUYbr57IOsltMVx8r9UyP7pB/Aiq2ISuI+nQ3fiux1DzFE1nHLlcY3bvlJ+ucVoax4j03Q7HzL27ijkP3Is5dj7KOTVI3Yttcjg8lyLjOJOynaTgf98fqKvWWgaVb39xqsVlH9uuDl5m+Y5xjjPTp2qoXFNLdmeJ08VaAPLnurUSuBLFcRlGkjB5UL2DDjNb4kWNVVAsUagAf4AVUfUNOt75IJbm2S6kBKxl1DkDknHWsqTVdSvbtItPsobbzIy5uLttxjAOP9Wvr2+YDrWqZk19xvyvEUBlOCenqazdRvGhtzFZ2V1cXciMIRHGCqnHBYkgAcjrVWHS5FuFury+v72UA4csIYkyMcIuB+JzV5rm2NnMscnkoo2yTlwpTv19f8aOYajZHM2uVtvJ1C01CwvsEy3b3DzAAdTlTgAgHjjH611KWaTWayWEsSJKgCOg4Kn0rFtrWY6h5qW13FYeYWYQsyLOOuWRiCvPJwDu/Gtuw2vLJOsRiWVt4jxjbwB09eOaJMNd0Wbdh5S49MVYyNp+lUYm2Syp2DmpzJgVncGjF/tCzG7N1Eu087jjH514t4ys7i78VahcWqCWOSTckisMN8o716TrmnGJRI5QxS3AG0Zzg5NZV34atRfQW8E0qGYEgvhgK8iOIlCVlueh7GE17zPLIfD+r7gVtwfbzV/xqzPpmq2qyefpZfI/uB8e/FenL4OnX5kvI2A9UINL/AGGUIuproyeWM7Svv0zn2q/7QqJ6pC+p0ejZ4oZWTdG8Soy9cxgGvon4c+HR4e8LwrIgW9uwJ7g45BI+VfwH6k15fMp1vxRokHlgRy35j5AP7tSCRnvxXuu75q9CNX2kE7HE6fJJotgL3al2xZ5GfqaqbyKTziDQFiIXEQ6yL+dNkv7WJCZJ0Ax65qdY4F6RIPoop48sdEA/Cr1EYuianBeXN/HCs4jidWV5YWjVsjnbuAz0/Ws95Vt/HqvnCzREE/8AAf8A7GquqfErTtM1K4sWtHWWB9jee2zd7gc5HvXB6z4l1bxHqp1PS5Ut4YgERjLsXjOeeD3/APr1lLpY3hTk9+p7RJdIY225J6jg1maVqMUemxmeTEhZjIzd23HNeM3/AIk1KGAq+pakZ0PLowEZOOmQeR+NVpft11LLqE10sccvztELgKzD09KHe9y1RWx75FqltM5SKQSOOqpyR+FObUoVOPmz6Yr5yk82+1ANZNMgSNRI002CBn1OPyrX1Jp1MVhF9ra6nwEBdGVweO3Q/SquwVGOrb0Pcprq0mR47u4a0CrvDGTyn+o7msYaFP4ih0a61S5cR2rtM9sYsee3IRm54OMHGO5rXiFho+l2UepTWUTxQqqPLIOw52luahm8U6HbuPN1a1Unnl6d1szFJ7ouiFLZY1s1jSVSQUxncCO/f05rDk1iWZb8xBDc2m5liVGZWdeuTgHAPsPyqabxH4du5N8Or6dJKP4WnCk46YrZglglhWUMjq68kchh/Wi4+ggukmt1nXO1lDDPoRmm3LE6WZP4shse1UJoZoDJ9nlaS0ClvJ8vLg+itnp7H860Y08zS1jIfc0IHz43Zx3xxn6Utx7WOQ1qzvf7Z0zUIJ5Zglyr+WQdkSBSsgznAyrE8gkkYz0FdNf3qyeH7tIIHv2I8hoLWT59zcYJH3OvJ7da569di1pP5kqrbs4kjRS27epQZx2BOc+1dVpGn21nBm3gjhefEkxjUDe56knqTVQeoVFZHmF94a8SWWqpK4Lz3bBtunxDaSMcSTPkj6nriu/08Xa6dLC6gzxqPPET7lQ/eCrkDc2CM9BzV15b6eA3EH2facmONgckZ4yc8flVexjN5NdzRyNbSlxHKFB5ZR1IPHQ4z16elUklIhycol77TMsAaURNuG4FMnK9jjArA1SS+k1GOLR7EmaMmSW7u1xArMAFK/32AGAOgzyRVzUrPWbjUYILSSO002FFaSXIZ58HiMD+Eep79qdr0+pRaLdCyWI3SwO8KJkKWHbnv6e9U9CYoH1G5WFbORZpJI8JLO+3942Mn7vAPI4qe3mmOAsePcmvPPCFxqkt7PaSNNLJbv50ob+OKQZEhPqpGPfNeh2r5UGsZN3uzRxS0RJHO0t1K21Rg7TjuR3qwzfL1qpCApkx3kY/rUjv8hFQ3oK2pzHiqfFhagHrdr/JqpXM7/8ACT6dtJCi3yfxJ/w/WsHVdQaXUIIXZuLojk+gatFWN34tjETK8cUCwyYP3WyH/wDrfjXkT0nd9j0Ir3Ts2+WM/SsK6lxp0xz0Q/zat2cbbQk8GuQvLof2ZqEYcF4yVIB5GSSP51zPccDmPDN3GviXw+GHJu5+fdlxXs7NgZ7CvnOz1CO01rRJmlCCK8D/AFG9Qf5V9Fk8GvepR5YI4Ju8mKsqsOCDSkg0wqjclRn1FN2Ov3WyPRq0IsTB6durnR4q0feEGp2jOeirMpJ/AGtq2M92geG3kKHozLtB/OruSQa14Q0TxJcR3V5ZRTTImxWDFWA9Dg81xF98FYXklezv5Y0OSkLpkD0Gc9K9MTTrg8u6J9OTUkukxTqiy3FzhTn93KUzxjnHOKeglJrZni83w/8AHFyjWjQ2sdsRswsihcfSr1j8D2kZJNU1EnA/1cJ4H4mvaI4kQAKPzOao2hKa/fIWJDIjAZ6UrpWSQ5VJT3OFm+D2kywRxW1xc22wYyrb931zVrTPhvpPhWZdRxdX9yn+rDsqqD/n1NejA0jBXUqwBB6g02tNNzP2ktnseFeOry81HWIxqbw21jCA0EShGcEdwTknPtgCua0y11e6We+h09gr79vm3AxtPPTuxPfFfQd7oFhcqWdSoHPHIrFTw9aLNknKdgFFcbVdu1kztjVppHkWl6LqOtBdOl0K2iVeBczvJjjvj+lereC/BQ8OWNxHJeyXAncOqbNiR4H8I5rZm/s7RLCS7lASGFN7u3IUfhXCXXxktGulg02xebecJJM4jVuM8Dk9vStadOS1nYynUc9IHoF7Y3P2RxYiBpj90TMVX8SAf5VVsbfU0h8u+ijMq9ZIT8jfQZzwMda8yf4o62HErT2SBpTGIFXIBBPy7j7Dqav2vxavpGt1/s+O4eXH7u3LSOSRnAUDP49K1ug5Jov+I9ROg6vsNtMyz4cN91Bk4OT9a7e3lVlUqwIx2q1Y3El7p0M9xaPbPIu5oJsbk9iPWpPs8GFAiRQvTaMYqlGzIlU5lZmM+mbGlNveXECSEsY0IKqT1K5HGaqaYxS6u7VJHieJ8hDgtKpAxISRzk5HHTGK17XR47LckNzctETkRzP5gT6E/Nj2JNNn0oSsr/IzpnY3Rlz1wapslNbGGbnU7PQWa5NtDqs9yVjSRy0WWYkdOuEGewyO1VpNat7yKE3pvYZlR5Ps8SHEoUgEvwQF578c11AsleHy5oi3OeW3HPrmoE0uzhtHtRH+7k3by7fMQxyRnrjJ6U2m1oOMktzn2tLKy1TRdbDw6VbiJrI25Qfvkf8A1ajbwOear3fifRdHup7e81S1iaFypVpBuGPYc10Wo6fZX1pbW0iDy7eWOaPvtKHIx+WPoa85n8MadfazeajJZhpbmZpWLc8k+lc9Vpbm0E5bDx8WtCJk8qC/kwxxtg+979au2vjtNTU/ZtLvB/10AWrln4dsY1AWzjUe0YrSj0e3XBSHafUcVi5XWhSjZ6nl3iO01OJre8hjCym53/NyvIPB/Ous8K2v2e2EsxLXDsZJXP8AExOSa62402Ga3EUsYbj04NUYtCtoZQ0cckRH9xzj8ulclam5qyNoTSd2W9RmK2g2DPrXl/iVL9LyW6sHCvMvlyxtyrjt+I7V6ldWIngw8j4HOeKwbjSbYsdw3/iaxhSmp3K5ouNjyJtIlf7NCELSRx5JA6En/wCtXv2lXwvdNgmBDFo1347NjkH8a5OWwhVAsaKv0XrVDF/pdwLiylaMbgXTs49CP616UJO2pzuKvoelilrn9P8AFmmX0gh88Q3H/PGb5W/DsfwrdWQMODWpnY2bDR9M0lNmnadaWi/9MIVT+Qq4xoLVGzYrRs5UgJya5++8aaBp+oPYTX6m6T78aKWKfU9AfauW+Kt9q+mWlneadqLxxM/kvaDjcT0fghj6Y5FeQa/b3LwrdX91L5/WPbalQx9C2c/nUX1sddOinHmZ7ZqXxa8O6cfLT7RcXHBEaKAMepbOAKpQfEmyfVjeRWckzSqkCwQyqSzZ9Tgd68b0OGNrOWdhZbWbiSflgR2x2FUryWaSO4/0crBKcl4kwgI9D07Umm2aOnCML23PWrr42XflPNBpcUUakjEiu+D2BIwKsaX8bGubJXudIiMpZgWW5EanHoCCa8qguLW608re6xcRysmPLSMFQvoe5rLsrmazyiwph3H72VeMf4VSvYHCndXWn9eZ9P8AhXxbB4x0aW9htZbUCQxbZGB3EAZKkdR2q0E8uUkuR7V4T4f8Sjw1BciwmgvpJ5QxgKMhYnjCYOB19K9vt45Z7NJXRo5TGGZGOdpxkjNJcy1RjOmo6Fm6lnS1MlsqyOv3kb+IVzq2GgazKBqPh6yZgT8zRKCD+FbluXZQRkUstgJ23fdb+8OtYTdVvmh9w4qCXKzJTwj4TgkDw+G9OLDozR5/nmti18m0G21tbe3XGMQxhf5UkemyA83LY/3RV2K1WPnJJ9TTiq8t9CZOC21HR+YxLvwT0FSgmlApa6oxaMWwoooqxBSEAjBAI96WigCrcada3UTRyRkK3B2MVJ/KqY8PWqPuieRfY8itcCncAUnTUt0P2klszJfTJk+6Q49jg1UK7SQcgjqMVfn1dFl8m3UysDhnH3U/HufaqbsXYsTkk5Nc84wXwm0HJ/EMYblwSaRTg4I5/nSnNHB4NYtGpIwyv3c1RmtYnyRGoNXQ+BsJyex9agcc0mCM54BHgFAPemS26SptZFI96vkMeDjFNa3U8qcH07UIq5xureHLe5Rsop/2SKxYZNe0A/6BetLAP+Xe5zImPY9R+Br0OWIqfmWqFxp8UoPygE1opNCaTPRN2ajY/NivOdM+JrS6idPvLE+eDgtG2V/M4/lXZw6nHeqNqOp98Vakr2OblZ5142+HOpX2utq2jX26WQljHcSHMZ/2Sc8e3avPtRtLnRLqS08TpcytkPHGrHyWHrkYya+iZGkXk7XHv1qlNdWcvy3FoHx2IDD9a0sjWNWSPmOa1a8muH0uyuPs+3cU2k4A689q17HWR/Z6R3t9dq23b5UKqFRfTpzX0Ok+nrHtW2ZV/uqABWOfD/hH7QZj4ft2kJzkoMZ+nSqaTCNZpt2PB7HwtquqgvptpLcwrLiPPy7h79q7mz8B+MdXKW2pRQ2tlwGBZSdvoAM/0r121mhijWK0s4YkUYVRwB+AFXALhxkyKg/2FquVbsz9rJXSOX0X4d6Boki3IsoTOp3CSUliD6jNdO8hlUxQrhTwWxTxbJnLkufVjU6gAcDFUzHUhit1jUDFP2jNSUmKkY2lFLijFMAooooAKKKcBQK4gFOApCcDNYt1q0kkzwQDZt4ZzyfwolJR3HGLk9DTur+C0Hztlz0ReSaybi4nvQRITHEf+Wank/U1VGBluS56s3JNSg1jKUpbm8YKI5VCKFQBVHQAcUvNJk07NRYoTmilzQDUNDuDDK4NQsecMeex9asCmOAwII4qWhpkAzu6U/bmm8q2w88ZBp3SlYoQjjBGRUL26sPl+U1McEjrSFaBH//Z'}"
      ]
     },
     "execution_count": 43,
     "metadata": {},
     "output_type": "execute_result"
    }
   ],
   "execution_count": 43
  },
  {
   "metadata": {
    "ExecuteTime": {
     "end_time": "2024-06-11T15:25:49.059866Z",
     "start_time": "2024-06-11T15:25:48.769593Z"
    }
   },
   "cell_type": "code",
   "source": [
    "# from qdrant_client import models\n",
    "# points = [\n",
    "#     models.PointStruct(\n",
    "#         id=idx,\n",
    "#         payload=data_dict[idx],\n",
    "#         vector=embeddings[idx].flatten().tolist()\n",
    "#     )\n",
    "#     for idx, _ in enumerate(data_dict)\n",
    "# ]"
   ],
   "id": "5eb334b3fa5467d8",
   "outputs": [],
   "execution_count": 44
  },
  {
   "metadata": {
    "ExecuteTime": {
     "end_time": "2024-06-11T15:25:49.064385Z",
     "start_time": "2024-06-11T15:25:49.061376Z"
    }
   },
   "cell_type": "code",
   "source": [
    "# from qdrant_client import models\n",
    "# \n",
    "# points = [\n",
    "#     models.PointStruct(\n",
    "#         id=idx,\n",
    "#         payload=data_dict[idx],\n",
    "#         vector=embeddings[idx].tolist()\n",
    "#     )\n",
    "#     for idx, _ in enumerate(data_dict)\n",
    "# ]\n",
    "# points"
   ],
   "id": "37b9058b09483029",
   "outputs": [],
   "execution_count": 45
  },
  {
   "metadata": {},
   "cell_type": "code",
   "outputs": [],
   "execution_count": null,
   "source": "matcher",
   "id": "6e69128cd0a75bdb"
  },
  {
   "metadata": {
    "ExecuteTime": {
     "end_time": "2024-06-11T15:25:53.455862Z",
     "start_time": "2024-06-11T15:25:49.064892Z"
    }
   },
   "cell_type": "code",
   "source": [
    "# qdrant_client.upsert(\n",
    "#     collection_name=collection_name,\n",
    "#     points=points\n",
    "# )"
   ],
   "id": "dd308b52c7a9e01c",
   "outputs": [
    {
     "data": {
      "text/plain": [
       "UpdateResult(operation_id=0, status=<UpdateStatus.COMPLETED: 'completed'>)"
      ]
     },
     "execution_count": 46,
     "metadata": {},
     "output_type": "execute_result"
    }
   ],
   "execution_count": 46
  },
  {
   "metadata": {
    "ExecuteTime": {
     "end_time": "2024-06-11T14:36:36.548650Z",
     "start_time": "2024-06-11T14:36:36.548650Z"
    }
   },
   "cell_type": "code",
   "source": [
    "# qdrant_client.upload_points(\n",
    "#     collection_name=collection_name,\n",
    "#     points=points\n",
    "# )"
   ],
   "id": "9054f087d6d03b79",
   "outputs": [],
   "execution_count": null
  },
  {
   "metadata": {},
   "cell_type": "code",
   "source": "",
   "id": "f01874786a2989fb",
   "outputs": [],
   "execution_count": null
  }
 ],
 "metadata": {
  "kernelspec": {
   "display_name": "Python 3",
   "language": "python",
   "name": "python3"
  },
  "language_info": {
   "codemirror_mode": {
    "name": "ipython",
    "version": 2
   },
   "file_extension": ".py",
   "mimetype": "text/x-python",
   "name": "python",
   "nbconvert_exporter": "python",
   "pygments_lexer": "ipython2",
   "version": "2.7.6"
  }
 },
 "nbformat": 4,
 "nbformat_minor": 5
}
